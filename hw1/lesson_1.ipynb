{
  "cells": [
    {
      "cell_type": "markdown",
      "metadata": {
        "id": "51FJ2V2UohDE"
      },
      "source": [
        "Екатерина Валерьевна"
      ],
      "id": "51FJ2V2UohDE"
    },
    {
      "cell_type": "code",
      "execution_count": 3,
      "metadata": {
        "id": "a17074b8-6789-4ccb-9192-5703678c1d70"
      },
      "outputs": [],
      "source": [
        "import numpy as np\n",
        "import pandas as pd\n",
        "import matplotlib.pyplot as plt\n",
        "import seaborn as sns\n",
        "\n",
        "%matplotlib inline"
      ],
      "id": "a17074b8-6789-4ccb-9192-5703678c1d70"
    },
    {
      "cell_type": "markdown",
      "metadata": {
        "id": "610cb381-de63-44c4-8c81-2ad7030bc97c"
      },
      "source": [
        "# Вспоминаем numpy"
      ],
      "id": "610cb381-de63-44c4-8c81-2ad7030bc97c"
    },
    {
      "cell_type": "markdown",
      "metadata": {
        "id": "4770c8ae-bdf8-4cbc-9496-a6ab0b7e1e71"
      },
      "source": [
        "В большинстве приложений для анализа данных основной интерес представляет следующая функциональность:\n",
        "+ быстрые векторные операции для переформатирования и очистки данных, выборки подмножеств и фильтрации, преобразований и других видов вычислений;\n",
        "+ стандартные алгоритмы работы с  массивами, например фильтрация, удаление дубликатов и теоретико-множественные операции;\n",
        "+ эффективная описательная статистика, агрегирование и  обобщение данных;\n",
        "+ выравнивание данных и реляционные операции объединения и соединения разнородных наборов данных;\n",
        "+ описание условной логики в виде выражений-массивов вместо циклов с ветвлением if-elif-else;\n",
        "+ групповые операции с данными (агрегирование, преобразование, применение функции)."
      ],
      "id": "4770c8ae-bdf8-4cbc-9496-a6ab0b7e1e71"
    },
    {
      "cell_type": "markdown",
      "metadata": {
        "id": "ef24ec91-f029-460f-bf5a-d2ee2724400d"
      },
      "source": [
        "**Сравнение быстродействия**"
      ],
      "id": "ef24ec91-f029-460f-bf5a-d2ee2724400d"
    },
    {
      "cell_type": "code",
      "execution_count": null,
      "metadata": {
        "id": "55315d98-df32-46a1-9677-f4d1a933b7e4"
      },
      "outputs": [],
      "source": [
        "array_ = np.arange(1000000)\n",
        "list_ = list(array_)"
      ],
      "id": "55315d98-df32-46a1-9677-f4d1a933b7e4"
    },
    {
      "cell_type": "code",
      "execution_count": null,
      "metadata": {
        "colab": {
          "base_uri": "https://localhost:8080/"
        },
        "id": "84e114a7-e476-4af2-9558-da97580a2f5e",
        "outputId": "f2c6d865-501d-4a67-e576-4dcc18914a54"
      },
      "outputs": [
        {
          "output_type": "stream",
          "name": "stdout",
          "text": [
            "CPU times: user 3.62 ms, sys: 930 µs, total: 4.55 ms\n",
            "Wall time: 5.74 ms\n"
          ]
        }
      ],
      "source": [
        "%%time\n",
        "array_2 = array_ * 2"
      ],
      "id": "84e114a7-e476-4af2-9558-da97580a2f5e"
    },
    {
      "cell_type": "code",
      "execution_count": null,
      "metadata": {
        "colab": {
          "base_uri": "https://localhost:8080/"
        },
        "id": "5d472bb1-3c94-44c3-bf9d-42c9694df817",
        "outputId": "579689ec-e11b-480a-d5fd-3037a6ba38a5"
      },
      "outputs": [
        {
          "output_type": "stream",
          "name": "stdout",
          "text": [
            "CPU times: user 178 ms, sys: 20.1 ms, total: 198 ms\n",
            "Wall time: 199 ms\n"
          ]
        }
      ],
      "source": [
        "%%time\n",
        "list_2 = []\n",
        "for i in list_:\n",
        "    list_2.append(i * 2)"
      ],
      "id": "5d472bb1-3c94-44c3-bf9d-42c9694df817"
    },
    {
      "cell_type": "code",
      "execution_count": null,
      "metadata": {
        "colab": {
          "base_uri": "https://localhost:8080/"
        },
        "id": "ddbd9e8c-cba9-48ec-ab7f-c537f74686a8",
        "outputId": "2d949d56-7c3c-4778-978c-db1524735ebf"
      },
      "outputs": [
        {
          "output_type": "stream",
          "name": "stdout",
          "text": [
            "CPU times: user 87.6 ms, sys: 18.8 ms, total: 106 ms\n",
            "Wall time: 107 ms\n"
          ]
        }
      ],
      "source": [
        "%%time\n",
        "list_2 = [i * 2 for i in list_]"
      ],
      "id": "ddbd9e8c-cba9-48ec-ab7f-c537f74686a8"
    },
    {
      "cell_type": "markdown",
      "metadata": {
        "id": "fe467d6d-d5b9-4e28-b1ba-da1e2f67b7a2"
      },
      "source": [
        "**Многомерные массивы**"
      ],
      "id": "fe467d6d-d5b9-4e28-b1ba-da1e2f67b7a2"
    },
    {
      "cell_type": "code",
      "execution_count": null,
      "metadata": {
        "id": "3a8d55bd-8558-4cef-9406-b3443e3acf2d"
      },
      "outputs": [],
      "source": [
        "data = np.array([[1.5, -0.1, 3], [0, -3, 6.5]])"
      ],
      "id": "3a8d55bd-8558-4cef-9406-b3443e3acf2d"
    },
    {
      "cell_type": "code",
      "execution_count": null,
      "metadata": {
        "colab": {
          "base_uri": "https://localhost:8080/"
        },
        "id": "2606a171-27a6-4477-a753-9df02a7b2de0",
        "outputId": "8aa31b7b-310d-4af6-ea7c-a6dbad138980"
      },
      "outputs": [
        {
          "output_type": "execute_result",
          "data": {
            "text/plain": [
              "array([[ 1.5, -0.1,  3. ],\n",
              "       [ 0. , -3. ,  6.5]])"
            ]
          },
          "metadata": {},
          "execution_count": 7
        }
      ],
      "source": [
        "data"
      ],
      "id": "2606a171-27a6-4477-a753-9df02a7b2de0"
    },
    {
      "cell_type": "code",
      "execution_count": null,
      "metadata": {
        "colab": {
          "base_uri": "https://localhost:8080/"
        },
        "id": "97dd1cc0-513d-415a-b87a-f316233ead67",
        "outputId": "236ae0b5-028d-41ff-ba13-618f6e1629f9"
      },
      "outputs": [
        {
          "output_type": "execute_result",
          "data": {
            "text/plain": [
              "numpy.ndarray"
            ]
          },
          "metadata": {},
          "execution_count": 8
        }
      ],
      "source": [
        "type(data)"
      ],
      "id": "97dd1cc0-513d-415a-b87a-f316233ead67"
    },
    {
      "cell_type": "code",
      "execution_count": null,
      "metadata": {
        "colab": {
          "base_uri": "https://localhost:8080/"
        },
        "id": "839140c7-1e57-49ef-9397-5ea3aeec6136",
        "outputId": "6331da22-5747-42c3-d5d8-b333bbbbf11a"
      },
      "outputs": [
        {
          "output_type": "execute_result",
          "data": {
            "text/plain": [
              "array([[ 3. , -0.2,  6. ],\n",
              "       [ 0. , -6. , 13. ]])"
            ]
          },
          "metadata": {},
          "execution_count": 9
        }
      ],
      "source": [
        "data * 2"
      ],
      "id": "839140c7-1e57-49ef-9397-5ea3aeec6136"
    },
    {
      "cell_type": "code",
      "execution_count": null,
      "metadata": {
        "colab": {
          "base_uri": "https://localhost:8080/"
        },
        "id": "eb6a3085-a763-4b67-98f5-3dec29383176",
        "outputId": "88377162-e2ba-48f4-afa7-ecbb8424a111"
      },
      "outputs": [
        {
          "output_type": "execute_result",
          "data": {
            "text/plain": [
              "array([[ 3. , -0.2,  6. ],\n",
              "       [ 0. , -6. , 13. ]])"
            ]
          },
          "metadata": {},
          "execution_count": 10
        }
      ],
      "source": [
        "data + data"
      ],
      "id": "eb6a3085-a763-4b67-98f5-3dec29383176"
    },
    {
      "cell_type": "markdown",
      "metadata": {
        "id": "83cf1193-f34f-4779-816a-afb1cc2d29f0"
      },
      "source": [
        "ndarray – это обобщенный многомерный контейнер для однородных данных, т. е. в нем могут храниться только элементы одного типа. У любого массива есть атрибут shape – кортеж, описывающий размер по каждому измерению,\n",
        "и атрибут dtype – объект, описывающий тип данных в массиве:"
      ],
      "id": "83cf1193-f34f-4779-816a-afb1cc2d29f0"
    },
    {
      "cell_type": "code",
      "execution_count": null,
      "metadata": {
        "colab": {
          "base_uri": "https://localhost:8080/"
        },
        "id": "43ddfd14-73dd-442e-b78e-0f53ffcf6986",
        "outputId": "373115a0-53e6-4ec2-e9bb-2e3a4bb694d1"
      },
      "outputs": [
        {
          "output_type": "execute_result",
          "data": {
            "text/plain": [
              "(2, 3)"
            ]
          },
          "metadata": {},
          "execution_count": 11
        }
      ],
      "source": [
        "data.shape"
      ],
      "id": "43ddfd14-73dd-442e-b78e-0f53ffcf6986"
    },
    {
      "cell_type": "code",
      "execution_count": null,
      "metadata": {
        "colab": {
          "base_uri": "https://localhost:8080/"
        },
        "id": "4d77de85-bcd3-434a-b5be-0325c7408e82",
        "outputId": "b1bb72f0-0a00-4d8a-f4f2-c0113a29c59d"
      },
      "outputs": [
        {
          "output_type": "execute_result",
          "data": {
            "text/plain": [
              "dtype('float64')"
            ]
          },
          "metadata": {},
          "execution_count": 12
        }
      ],
      "source": [
        "data.dtype"
      ],
      "id": "4d77de85-bcd3-434a-b5be-0325c7408e82"
    },
    {
      "cell_type": "code",
      "execution_count": null,
      "metadata": {
        "colab": {
          "base_uri": "https://localhost:8080/"
        },
        "id": "e3e882f6-1842-4715-ada6-e6bae94947a0",
        "outputId": "e67cf671-9008-4757-e6d7-c35b1e1bd3b4"
      },
      "outputs": [
        {
          "output_type": "execute_result",
          "data": {
            "text/plain": [
              "array(['str', '1'], dtype='<U21')"
            ]
          },
          "metadata": {},
          "execution_count": 13
        }
      ],
      "source": [
        "np.array([\"str\", 1])"
      ],
      "id": "e3e882f6-1842-4715-ada6-e6bae94947a0"
    },
    {
      "cell_type": "code",
      "execution_count": null,
      "metadata": {
        "colab": {
          "base_uri": "https://localhost:8080/",
          "height": 175
        },
        "id": "a2595c4e-bab5-439c-9b68-15b8eedeb270",
        "outputId": "be314c03-e926-4977-80fa-9a92b0bfafe3"
      },
      "outputs": [
        {
          "output_type": "error",
          "ename": "UFuncTypeError",
          "evalue": "ufunc 'multiply' did not contain a loop with signature matching types (dtype('<U21'), dtype('int64')) -> None",
          "traceback": [
            "\u001b[0;31m---------------------------------------------------------------------------\u001b[0m",
            "\u001b[0;31mUFuncTypeError\u001b[0m                            Traceback (most recent call last)",
            "\u001b[0;32m<ipython-input-14-a183c08d1117>\u001b[0m in \u001b[0;36m<cell line: 1>\u001b[0;34m()\u001b[0m\n\u001b[0;32m----> 1\u001b[0;31m \u001b[0mnp\u001b[0m\u001b[0;34m.\u001b[0m\u001b[0marray\u001b[0m\u001b[0;34m(\u001b[0m\u001b[0;34m[\u001b[0m\u001b[0;34m\"str\"\u001b[0m\u001b[0;34m,\u001b[0m \u001b[0;36m1\u001b[0m\u001b[0;34m]\u001b[0m\u001b[0;34m)\u001b[0m \u001b[0;34m*\u001b[0m \u001b[0;36m2\u001b[0m\u001b[0;34m\u001b[0m\u001b[0;34m\u001b[0m\u001b[0m\n\u001b[0m",
            "\u001b[0;31mUFuncTypeError\u001b[0m: ufunc 'multiply' did not contain a loop with signature matching types (dtype('<U21'), dtype('int64')) -> None"
          ]
        }
      ],
      "source": [
        "#np.array([\"str\", 1]) * 2"
      ],
      "id": "a2595c4e-bab5-439c-9b68-15b8eedeb270"
    },
    {
      "cell_type": "markdown",
      "metadata": {
        "id": "85e694b3-0148-46d4-a43d-c4a8b3096911"
      },
      "source": [
        "**Создание массивов**"
      ],
      "id": "85e694b3-0148-46d4-a43d-c4a8b3096911"
    },
    {
      "cell_type": "code",
      "execution_count": null,
      "metadata": {
        "colab": {
          "base_uri": "https://localhost:8080/"
        },
        "id": "841f618e-a5d8-4743-9cfd-50e1fcddab69",
        "outputId": "20b53b7f-d0cc-4d27-9dc6-8e2153fa2967"
      },
      "outputs": [
        {
          "output_type": "execute_result",
          "data": {
            "text/plain": [
              "array([1., 1., 1., 1., 1., 1., 1., 1., 1., 1.])"
            ]
          },
          "metadata": {},
          "execution_count": 16
        }
      ],
      "source": [
        "np.ones(10)"
      ],
      "id": "841f618e-a5d8-4743-9cfd-50e1fcddab69"
    },
    {
      "cell_type": "code",
      "execution_count": null,
      "metadata": {
        "colab": {
          "base_uri": "https://localhost:8080/"
        },
        "id": "39e34974-7ed1-436e-9c3b-8b93536b6788",
        "outputId": "74efbe62-b7e1-4b82-a38c-4d052032d7d0"
      },
      "outputs": [
        {
          "output_type": "execute_result",
          "data": {
            "text/plain": [
              "array([0., 0., 0., 0., 0., 0., 0., 0., 0., 0.])"
            ]
          },
          "metadata": {},
          "execution_count": 17
        }
      ],
      "source": [
        "np.zeros(10)"
      ],
      "id": "39e34974-7ed1-436e-9c3b-8b93536b6788"
    },
    {
      "cell_type": "code",
      "execution_count": null,
      "metadata": {
        "colab": {
          "base_uri": "https://localhost:8080/"
        },
        "id": "6c84207d-1079-4f7c-b254-1848c9153271",
        "outputId": "88345440-5026-44ec-f3d4-0ef166c30b80"
      },
      "outputs": [
        {
          "output_type": "execute_result",
          "data": {
            "text/plain": [
              "array([0, 1, 2, 3, 4, 5, 6, 7, 8, 9])"
            ]
          },
          "metadata": {},
          "execution_count": 18
        }
      ],
      "source": [
        "np.arange(10)"
      ],
      "id": "6c84207d-1079-4f7c-b254-1848c9153271"
    },
    {
      "cell_type": "markdown",
      "metadata": {
        "id": "5a1f6e04-3004-4414-a9d7-070f10e75994"
      },
      "source": [
        "**Задани 1**\n",
        "+ Создать единичную матрицу 4x4;\n",
        "+ Создать матрицу 4x4, заполненную 5."
      ],
      "id": "5a1f6e04-3004-4414-a9d7-070f10e75994"
    },
    {
      "cell_type": "code",
      "execution_count": null,
      "metadata": {
        "colab": {
          "base_uri": "https://localhost:8080/"
        },
        "id": "WjwP-j82qEsi",
        "outputId": "fcc2975b-c157-4a72-dbbd-f18f9a075688"
      },
      "outputs": [
        {
          "output_type": "execute_result",
          "data": {
            "text/plain": [
              "array([[1., 0., 0., 0.],\n",
              "       [0., 1., 0., 0.],\n",
              "       [0., 0., 1., 0.],\n",
              "       [0., 0., 0., 1.]])"
            ]
          },
          "metadata": {},
          "execution_count": 19
        }
      ],
      "source": [
        "np.eye(4)"
      ],
      "id": "WjwP-j82qEsi"
    },
    {
      "cell_type": "code",
      "execution_count": null,
      "metadata": {
        "colab": {
          "base_uri": "https://localhost:8080/"
        },
        "id": "KDwbao_BqSJu",
        "outputId": "39172f2b-01a0-4409-da22-8d91a606c8a5"
      },
      "outputs": [
        {
          "output_type": "stream",
          "name": "stdout",
          "text": [
            "CPU times: user 62 µs, sys: 10 µs, total: 72 µs\n",
            "Wall time: 76.5 µs\n"
          ]
        },
        {
          "output_type": "execute_result",
          "data": {
            "text/plain": [
              "array([[5., 5., 5., 5.],\n",
              "       [5., 5., 5., 5.],\n",
              "       [5., 5., 5., 5.],\n",
              "       [5., 5., 5., 5.]])"
            ]
          },
          "metadata": {},
          "execution_count": 20
        }
      ],
      "source": [
        "%%time\n",
        "np.ones((4, 4)) * 5"
      ],
      "id": "KDwbao_BqSJu"
    },
    {
      "cell_type": "code",
      "execution_count": null,
      "metadata": {
        "colab": {
          "base_uri": "https://localhost:8080/"
        },
        "id": "bEhiUILLrEHC",
        "outputId": "3a8527f5-d5c5-44fb-de37-fa3b5265969a"
      },
      "outputs": [
        {
          "output_type": "stream",
          "name": "stdout",
          "text": [
            "CPU times: user 112 µs, sys: 18 µs, total: 130 µs\n",
            "Wall time: 138 µs\n"
          ]
        },
        {
          "output_type": "execute_result",
          "data": {
            "text/plain": [
              "array([[5, 5, 5, 5],\n",
              "       [5, 5, 5, 5],\n",
              "       [5, 5, 5, 5],\n",
              "       [5, 5, 5, 5]])"
            ]
          },
          "metadata": {},
          "execution_count": 21
        }
      ],
      "source": [
        "%%time\n",
        "np.full((4, 4), 5) # более лаконичный способ"
      ],
      "id": "bEhiUILLrEHC"
    },
    {
      "cell_type": "markdown",
      "metadata": {
        "id": "782c09b0-ec98-4ac5-accf-ffe8f189e8d6"
      },
      "source": [
        "**Возведение элементов матрицы в квадрат и возведение матрицы в квадрат**"
      ],
      "id": "782c09b0-ec98-4ac5-accf-ffe8f189e8d6"
    },
    {
      "cell_type": "code",
      "execution_count": null,
      "metadata": {
        "id": "417746d1-2ee8-4986-aea6-8b85b072492e"
      },
      "outputs": [],
      "source": [
        "m = np.array([[1, 2, 3], [4, 5, 6], [1, 2, 3]])"
      ],
      "id": "417746d1-2ee8-4986-aea6-8b85b072492e"
    },
    {
      "cell_type": "code",
      "execution_count": null,
      "metadata": {
        "colab": {
          "base_uri": "https://localhost:8080/"
        },
        "id": "a3c575e5-c2cb-416c-8f43-02f480c82269",
        "outputId": "a62797e7-455c-4f5b-cf27-5eb3c181bdd6"
      },
      "outputs": [
        {
          "output_type": "execute_result",
          "data": {
            "text/plain": [
              "array([[ 1,  4,  9],\n",
              "       [16, 25, 36],\n",
              "       [ 1,  4,  9]])"
            ]
          },
          "metadata": {},
          "execution_count": 23
        }
      ],
      "source": [
        "m ** 2"
      ],
      "id": "a3c575e5-c2cb-416c-8f43-02f480c82269"
    },
    {
      "cell_type": "code",
      "execution_count": null,
      "metadata": {
        "colab": {
          "base_uri": "https://localhost:8080/"
        },
        "id": "1ab08bf0-84e7-4050-84f2-a61b74a5a14d",
        "outputId": "3c31dc7b-fab1-43b0-f073-6fa08eb7f51f"
      },
      "outputs": [
        {
          "output_type": "execute_result",
          "data": {
            "text/plain": [
              "array([[12, 18, 24],\n",
              "       [30, 45, 60],\n",
              "       [12, 18, 24]])"
            ]
          },
          "metadata": {},
          "execution_count": 24
        }
      ],
      "source": [
        "np.dot(m, m) # умонжение матриц"
      ],
      "id": "1ab08bf0-84e7-4050-84f2-a61b74a5a14d"
    },
    {
      "cell_type": "code",
      "execution_count": null,
      "metadata": {
        "colab": {
          "base_uri": "https://localhost:8080/"
        },
        "id": "e64f1fda-0335-4944-91ef-626fffca3222",
        "outputId": "7db9059c-09e6-461a-f01d-18ee0ee70994"
      },
      "outputs": [
        {
          "output_type": "execute_result",
          "data": {
            "text/plain": [
              "array([[12, 18, 24],\n",
              "       [30, 45, 60],\n",
              "       [12, 18, 24]])"
            ]
          },
          "metadata": {},
          "execution_count": 25
        }
      ],
      "source": [
        "m @ m"
      ],
      "id": "e64f1fda-0335-4944-91ef-626fffca3222"
    },
    {
      "cell_type": "markdown",
      "metadata": {
        "id": "72f6fea7-3859-49b3-98f8-a13eb4fc978d"
      },
      "source": [
        "## Индексирование"
      ],
      "id": "72f6fea7-3859-49b3-98f8-a13eb4fc978d"
    },
    {
      "cell_type": "code",
      "execution_count": null,
      "metadata": {
        "colab": {
          "base_uri": "https://localhost:8080/"
        },
        "id": "fb7082e0-f14e-4b29-a6d9-833ff0482bae",
        "outputId": "4d152a17-1c2d-4ad0-cba5-67573b7e0965"
      },
      "outputs": [
        {
          "output_type": "execute_result",
          "data": {
            "text/plain": [
              "array([1, 2, 3])"
            ]
          },
          "metadata": {},
          "execution_count": 26
        }
      ],
      "source": [
        "m[0]"
      ],
      "id": "fb7082e0-f14e-4b29-a6d9-833ff0482bae"
    },
    {
      "cell_type": "code",
      "execution_count": null,
      "metadata": {
        "colab": {
          "base_uri": "https://localhost:8080/"
        },
        "id": "6898eaf8-ee76-47dd-b837-4acf2564a848",
        "outputId": "d9d7b37c-5a4b-4330-9b5b-dc872a6a2724"
      },
      "outputs": [
        {
          "output_type": "execute_result",
          "data": {
            "text/plain": [
              "1"
            ]
          },
          "metadata": {},
          "execution_count": 27
        }
      ],
      "source": [
        "m[0, 0]"
      ],
      "id": "6898eaf8-ee76-47dd-b837-4acf2564a848"
    },
    {
      "cell_type": "code",
      "execution_count": null,
      "metadata": {
        "colab": {
          "base_uri": "https://localhost:8080/"
        },
        "id": "1f261aa8-773c-496c-8c04-ef20c9794df2",
        "outputId": "01a5dd82-656a-4cc4-b227-189b4c96cd84"
      },
      "outputs": [
        {
          "output_type": "execute_result",
          "data": {
            "text/plain": [
              "array([2, 3])"
            ]
          },
          "metadata": {},
          "execution_count": 28
        }
      ],
      "source": [
        "m[0][1:]"
      ],
      "id": "1f261aa8-773c-496c-8c04-ef20c9794df2"
    },
    {
      "cell_type": "markdown",
      "metadata": {
        "id": "7b80c57a-e367-47d5-b300-03e8c1284152"
      },
      "source": [
        "**Булево индексирование**"
      ],
      "id": "7b80c57a-e367-47d5-b300-03e8c1284152"
    },
    {
      "cell_type": "code",
      "execution_count": null,
      "metadata": {
        "colab": {
          "base_uri": "https://localhost:8080/"
        },
        "id": "6593f80a-cdb0-407c-a9cf-07c781536319",
        "outputId": "d131bd7e-3f5b-4136-b66d-52b1a846d42a"
      },
      "outputs": [
        {
          "output_type": "execute_result",
          "data": {
            "text/plain": [
              "array([[ True, False,  True],\n",
              "       [False,  True, False],\n",
              "       [ True, False,  True]])"
            ]
          },
          "metadata": {},
          "execution_count": 29
        }
      ],
      "source": [
        "m%2 == 1"
      ],
      "id": "6593f80a-cdb0-407c-a9cf-07c781536319"
    },
    {
      "cell_type": "code",
      "execution_count": null,
      "metadata": {
        "colab": {
          "base_uri": "https://localhost:8080/"
        },
        "id": "fb799fa5-a2f3-4236-bc61-ef179ca1d326",
        "outputId": "6bdaf8e7-30dc-44c2-e983-477950428fb3"
      },
      "outputs": [
        {
          "output_type": "execute_result",
          "data": {
            "text/plain": [
              "array([1, 3, 5, 1, 3])"
            ]
          },
          "metadata": {},
          "execution_count": 30
        }
      ],
      "source": [
        "m[m%2 == 1]"
      ],
      "id": "fb799fa5-a2f3-4236-bc61-ef179ca1d326"
    },
    {
      "cell_type": "code",
      "execution_count": null,
      "metadata": {
        "colab": {
          "base_uri": "https://localhost:8080/"
        },
        "id": "9670aca8-a231-4285-b115-cbd2002c189c",
        "outputId": "cba1294e-c73e-41c0-c7e5-77b6f7b6b4c2"
      },
      "outputs": [
        {
          "output_type": "execute_result",
          "data": {
            "text/plain": [
              "array([2, 4, 6, 2])"
            ]
          },
          "metadata": {},
          "execution_count": 31
        }
      ],
      "source": [
        "m[~m%2 == 1]"
      ],
      "id": "9670aca8-a231-4285-b115-cbd2002c189c"
    },
    {
      "cell_type": "code",
      "execution_count": null,
      "metadata": {
        "colab": {
          "base_uri": "https://localhost:8080/"
        },
        "id": "9689accd-fd05-4c73-b306-61eb9417c8a1",
        "outputId": "0fa560c5-dec1-40b4-cb6f-557b88b4981c"
      },
      "outputs": [
        {
          "output_type": "execute_result",
          "data": {
            "text/plain": [
              "array([[  1, 100,   3],\n",
              "       [100,   5, 100],\n",
              "       [  1, 100,   3]])"
            ]
          },
          "metadata": {},
          "execution_count": 32
        }
      ],
      "source": [
        "m[~m%2 == 1] = 100\n",
        "m"
      ],
      "id": "9689accd-fd05-4c73-b306-61eb9417c8a1"
    },
    {
      "cell_type": "code",
      "execution_count": null,
      "metadata": {
        "id": "7fe2209f-ea99-4df8-913e-17a0af069c4d",
        "outputId": "5a19e1cb-25a2-4e66-f8b5-0875a8a86d83",
        "colab": {
          "base_uri": "https://localhost:8080/"
        }
      },
      "outputs": [
        {
          "output_type": "execute_result",
          "data": {
            "text/plain": [
              "array([[  1, 100,   1],\n",
              "       [100,   5, 100],\n",
              "       [  3, 100,   3]])"
            ]
          },
          "metadata": {},
          "execution_count": 33
        }
      ],
      "source": [
        "m.T"
      ],
      "id": "7fe2209f-ea99-4df8-913e-17a0af069c4d"
    },
    {
      "cell_type": "code",
      "execution_count": null,
      "metadata": {
        "id": "df66ef8d-f920-4260-95d0-f800586f6e63",
        "outputId": "9aca53a6-329b-42c4-c9a6-85e9140259a3",
        "colab": {
          "base_uri": "https://localhost:8080/"
        }
      },
      "outputs": [
        {
          "output_type": "execute_result",
          "data": {
            "text/plain": [
              "array([ 0,  1,  2,  3,  4,  5,  6,  7,  8,  9, 10, 11, 12, 13, 14])"
            ]
          },
          "metadata": {},
          "execution_count": 34
        }
      ],
      "source": [
        "np.arange(15)"
      ],
      "id": "df66ef8d-f920-4260-95d0-f800586f6e63"
    },
    {
      "cell_type": "code",
      "execution_count": null,
      "metadata": {
        "id": "f829abea-abf9-4906-9af4-350ce1f5971f",
        "outputId": "d522c3d5-1553-422c-c4b1-317d04e1f423",
        "colab": {
          "base_uri": "https://localhost:8080/"
        }
      },
      "outputs": [
        {
          "output_type": "execute_result",
          "data": {
            "text/plain": [
              "array([[ 0,  1,  2,  3,  4],\n",
              "       [ 5,  6,  7,  8,  9],\n",
              "       [10, 11, 12, 13, 14]])"
            ]
          },
          "metadata": {},
          "execution_count": 35
        }
      ],
      "source": [
        "arr = np.arange(15).reshape((3, 5))\n",
        "arr"
      ],
      "id": "f829abea-abf9-4906-9af4-350ce1f5971f"
    },
    {
      "cell_type": "code",
      "execution_count": null,
      "metadata": {
        "id": "7f4e28ec-cdad-4e3b-a5f0-b475d55777a2",
        "outputId": "8d0f137a-6498-4045-c4d4-c94ebe142506",
        "colab": {
          "base_uri": "https://localhost:8080/"
        }
      },
      "outputs": [
        {
          "output_type": "execute_result",
          "data": {
            "text/plain": [
              "array([[ 0,  5, 10],\n",
              "       [ 1,  6, 11],\n",
              "       [ 2,  7, 12],\n",
              "       [ 3,  8, 13],\n",
              "       [ 4,  9, 14]])"
            ]
          },
          "metadata": {},
          "execution_count": 36
        }
      ],
      "source": [
        "arr.swapaxes(0, 1)"
      ],
      "id": "7f4e28ec-cdad-4e3b-a5f0-b475d55777a2"
    },
    {
      "cell_type": "code",
      "execution_count": null,
      "metadata": {
        "id": "063f1725-e4cd-466f-80c1-22a2be7f8cc2",
        "outputId": "bb1d76e0-582d-4dac-9960-64d5765be09a",
        "colab": {
          "base_uri": "https://localhost:8080/"
        }
      },
      "outputs": [
        {
          "output_type": "execute_result",
          "data": {
            "text/plain": [
              "array([[ 0,  5, 10],\n",
              "       [ 1,  6, 11],\n",
              "       [ 2,  7, 12],\n",
              "       [ 3,  8, 13],\n",
              "       [ 4,  9, 14]])"
            ]
          },
          "metadata": {},
          "execution_count": 37
        }
      ],
      "source": [
        "arr.T"
      ],
      "id": "063f1725-e4cd-466f-80c1-22a2be7f8cc2"
    },
    {
      "cell_type": "markdown",
      "metadata": {
        "id": "66484a6a-3a65-464b-80f3-0fe8662b6e82"
      },
      "source": [
        "**Задание 2**\\\n",
        "Отобрать те строки data, где на соответствующих позициях в names имя Леша или Петя."
      ],
      "id": "66484a6a-3a65-464b-80f3-0fe8662b6e82"
    },
    {
      "cell_type": "code",
      "execution_count": null,
      "metadata": {
        "id": "94834e08-7e97-43e5-b80c-acb9725a78f8"
      },
      "outputs": [],
      "source": [
        "names = np.array([\"Настя\", \"Петя\", \"Вася\", \"Юра\", \"Паша\", \"Леша\", \"Леша\"])\n",
        "data = np.array([[4, 8], [1, 5], [-3, 9], [99, 0], [13, 22], [12, 49], [31, 4]])"
      ],
      "id": "94834e08-7e97-43e5-b80c-acb9725a78f8"
    },
    {
      "cell_type": "code",
      "execution_count": null,
      "metadata": {
        "colab": {
          "base_uri": "https://localhost:8080/"
        },
        "id": "y5NVGHZYs9PT",
        "outputId": "b5586a9e-627a-47ff-b349-890aba339ed2"
      },
      "outputs": [
        {
          "output_type": "execute_result",
          "data": {
            "text/plain": [
              "array([[ 1,  5],\n",
              "       [12, 49],\n",
              "       [31,  4]])"
            ]
          },
          "metadata": {},
          "execution_count": 39
        }
      ],
      "source": [
        "data[(names == 'Леша') | (names == 'Петя')]"
      ],
      "id": "y5NVGHZYs9PT"
    },
    {
      "cell_type": "markdown",
      "metadata": {
        "id": "a40fdf77-84ff-40ca-92fb-ffa743fea620"
      },
      "source": [
        "## Быстрые поэлементные операции над массивами"
      ],
      "id": "a40fdf77-84ff-40ca-92fb-ffa743fea620"
    },
    {
      "cell_type": "code",
      "execution_count": null,
      "metadata": {
        "id": "d98259a6-cb3a-4802-b12c-c1fbb145f5e7"
      },
      "outputs": [],
      "source": [
        "arr = np.arange(10)"
      ],
      "id": "d98259a6-cb3a-4802-b12c-c1fbb145f5e7"
    },
    {
      "cell_type": "code",
      "execution_count": null,
      "metadata": {
        "colab": {
          "base_uri": "https://localhost:8080/"
        },
        "id": "414f543e-349f-4774-9cbf-60540c740fc0",
        "outputId": "55c73805-ff9d-4024-9090-e87d1fbc96b0"
      },
      "outputs": [
        {
          "output_type": "execute_result",
          "data": {
            "text/plain": [
              "array([0.        , 1.        , 1.41421356, 1.73205081, 2.        ,\n",
              "       2.23606798, 2.44948974, 2.64575131, 2.82842712, 3.        ])"
            ]
          },
          "metadata": {},
          "execution_count": 41
        }
      ],
      "source": [
        "np.sqrt(arr)"
      ],
      "id": "414f543e-349f-4774-9cbf-60540c740fc0"
    },
    {
      "cell_type": "code",
      "execution_count": null,
      "metadata": {
        "colab": {
          "base_uri": "https://localhost:8080/"
        },
        "id": "50858433-26cf-4339-bb86-920b3396f7c9",
        "outputId": "20594ff4-5172-4cd5-dc9b-22413ccf3d91"
      },
      "outputs": [
        {
          "output_type": "execute_result",
          "data": {
            "text/plain": [
              "array([1.00000000e+00, 2.71828183e+00, 7.38905610e+00, 2.00855369e+01,\n",
              "       5.45981500e+01, 1.48413159e+02, 4.03428793e+02, 1.09663316e+03,\n",
              "       2.98095799e+03, 8.10308393e+03])"
            ]
          },
          "metadata": {},
          "execution_count": 42
        }
      ],
      "source": [
        "np.exp(arr)"
      ],
      "id": "50858433-26cf-4339-bb86-920b3396f7c9"
    },
    {
      "cell_type": "code",
      "execution_count": null,
      "metadata": {
        "colab": {
          "base_uri": "https://localhost:8080/"
        },
        "id": "3008da7c-7a5d-4e0b-b139-3e58173f72a5",
        "outputId": "1776549b-11fd-40b6-962e-a85d969211e9"
      },
      "outputs": [
        {
          "output_type": "execute_result",
          "data": {
            "text/plain": [
              "array([3.33333333e-01, 1.00000000e+00, 2.46301870e+00, 6.69517897e+00,\n",
              "       1.81993833e+01, 4.94710530e+01, 1.34476264e+02, 3.65544386e+02,\n",
              "       9.93652662e+02, 2.70102798e+03])"
            ]
          },
          "metadata": {},
          "execution_count": 43
        }
      ],
      "source": [
        "np.maximum(np.sqrt(arr), np.exp(arr)/3)"
      ],
      "id": "3008da7c-7a5d-4e0b-b139-3e58173f72a5"
    },
    {
      "cell_type": "code",
      "execution_count": null,
      "metadata": {
        "colab": {
          "base_uri": "https://localhost:8080/"
        },
        "id": "0bda8b29-c1c5-46a3-bbf1-0118e25ae34b",
        "outputId": "03c0e019-1935-4f38-e0c2-a7881e0ed39b"
      },
      "outputs": [
        {
          "output_type": "execute_result",
          "data": {
            "text/plain": [
              "array([0., 1., 1., 1., 2., 2., 2., 2., 2., 3.])"
            ]
          },
          "metadata": {},
          "execution_count": 44
        }
      ],
      "source": [
        "np.floor(np.sqrt(arr))"
      ],
      "id": "0bda8b29-c1c5-46a3-bbf1-0118e25ae34b"
    },
    {
      "cell_type": "code",
      "execution_count": null,
      "metadata": {
        "colab": {
          "base_uri": "https://localhost:8080/"
        },
        "id": "219be6ae-e40c-4a2c-b74b-ca02ecebf58a",
        "outputId": "c3f36fae-dff5-4cf1-b292-6a3b21ceac86"
      },
      "outputs": [
        {
          "output_type": "execute_result",
          "data": {
            "text/plain": [
              "array([0., 1., 2., 2., 2., 3., 3., 3., 3., 3.])"
            ]
          },
          "metadata": {},
          "execution_count": 45
        }
      ],
      "source": [
        "np.ceil(np.sqrt(arr))"
      ],
      "id": "219be6ae-e40c-4a2c-b74b-ca02ecebf58a"
    },
    {
      "cell_type": "code",
      "execution_count": null,
      "metadata": {
        "colab": {
          "base_uri": "https://localhost:8080/"
        },
        "id": "8d6bf0d4-d712-42fd-ac76-4eb6f69b2382",
        "outputId": "ca6a5c60-9c56-4db6-b8a7-87e19d29e9ae"
      },
      "outputs": [
        {
          "output_type": "execute_result",
          "data": {
            "text/plain": [
              "array([0., 1., 1., 2., 2., 2., 2., 3., 3., 3.])"
            ]
          },
          "metadata": {},
          "execution_count": 46
        }
      ],
      "source": [
        "np.round(np.sqrt(arr))"
      ],
      "id": "8d6bf0d4-d712-42fd-ac76-4eb6f69b2382"
    },
    {
      "cell_type": "markdown",
      "metadata": {
        "id": "d7cc522e-b4f0-4711-b899-88a105c4fac1"
      },
      "source": [
        "## Программирование на основе массивов"
      ],
      "id": "d7cc522e-b4f0-4711-b899-88a105c4fac1"
    },
    {
      "cell_type": "code",
      "execution_count": null,
      "metadata": {
        "colab": {
          "base_uri": "https://localhost:8080/"
        },
        "id": "123b06bd-1c51-4030-ac23-842c9941f15c",
        "outputId": "8235c06a-828b-424a-a131-860acbd62c72"
      },
      "outputs": [
        {
          "output_type": "execute_result",
          "data": {
            "text/plain": [
              "array([[-5.  , -5.  , -5.  , ..., -5.  , -5.  , -5.  ],\n",
              "       [-4.99, -4.99, -4.99, ..., -4.99, -4.99, -4.99],\n",
              "       [-4.98, -4.98, -4.98, ..., -4.98, -4.98, -4.98],\n",
              "       ...,\n",
              "       [ 4.97,  4.97,  4.97, ...,  4.97,  4.97,  4.97],\n",
              "       [ 4.98,  4.98,  4.98, ...,  4.98,  4.98,  4.98],\n",
              "       [ 4.99,  4.99,  4.99, ...,  4.99,  4.99,  4.99]])"
            ]
          },
          "metadata": {},
          "execution_count": 47
        }
      ],
      "source": [
        "points = np.arange(-5, 5, 0.01) # 100 равноотстоящих точек\n",
        "xs, ys = np.meshgrid(points, points)\n",
        "ys"
      ],
      "id": "123b06bd-1c51-4030-ac23-842c9941f15c"
    },
    {
      "cell_type": "code",
      "execution_count": null,
      "metadata": {
        "colab": {
          "base_uri": "https://localhost:8080/"
        },
        "id": "b96c75d6-f7ae-4079-96a1-1b67cfb87f34",
        "outputId": "75ae8978-0865-47b6-d672-eff2b2691474"
      },
      "outputs": [
        {
          "output_type": "execute_result",
          "data": {
            "text/plain": [
              "array([[-5.  , -4.99, -4.98, ...,  4.97,  4.98,  4.99],\n",
              "       [-5.  , -4.99, -4.98, ...,  4.97,  4.98,  4.99],\n",
              "       [-5.  , -4.99, -4.98, ...,  4.97,  4.98,  4.99],\n",
              "       ...,\n",
              "       [-5.  , -4.99, -4.98, ...,  4.97,  4.98,  4.99],\n",
              "       [-5.  , -4.99, -4.98, ...,  4.97,  4.98,  4.99],\n",
              "       [-5.  , -4.99, -4.98, ...,  4.97,  4.98,  4.99]])"
            ]
          },
          "metadata": {},
          "execution_count": 48
        }
      ],
      "source": [
        "xs"
      ],
      "id": "b96c75d6-f7ae-4079-96a1-1b67cfb87f34"
    },
    {
      "cell_type": "code",
      "execution_count": null,
      "metadata": {
        "id": "63a16c78-f877-4e7a-a626-4b8284bce9ae"
      },
      "outputs": [],
      "source": [
        "z = np.sqrt(xs ** 2 + ys ** 2)"
      ],
      "id": "63a16c78-f877-4e7a-a626-4b8284bce9ae"
    },
    {
      "cell_type": "code",
      "execution_count": null,
      "metadata": {
        "id": "ce99dfab-599e-4433-a517-818eb8d65ebd"
      },
      "outputs": [],
      "source": [
        "xarr = np.array([1.1, 1.2, 1.3, 1.4, 1.5])\n",
        "yarr = np.array([2.1, 2.2, 2.3, 2.4, 2.5])\n",
        "cond = np.array([True, False, True, True, False])"
      ],
      "id": "ce99dfab-599e-4433-a517-818eb8d65ebd"
    },
    {
      "cell_type": "code",
      "execution_count": null,
      "metadata": {
        "colab": {
          "base_uri": "https://localhost:8080/"
        },
        "id": "843eb6e6-12f9-4f8d-bb87-d23b716e136b",
        "outputId": "d1d75f95-7e1c-44c2-d882-b618aa6c73f2"
      },
      "outputs": [
        {
          "output_type": "execute_result",
          "data": {
            "text/plain": [
              "[1.1, 2.2, 1.3, 1.4, 2.5]"
            ]
          },
          "metadata": {},
          "execution_count": 51
        }
      ],
      "source": [
        "result = [(x if c else y) for x, y, c in zip(xarr, yarr, cond)]\n",
        "result"
      ],
      "id": "843eb6e6-12f9-4f8d-bb87-d23b716e136b"
    },
    {
      "cell_type": "code",
      "execution_count": null,
      "metadata": {
        "id": "32025a8f-3366-4f9c-888c-62c8a2115c8e"
      },
      "outputs": [],
      "source": [
        "\n",
        "result = np.where(cond, xarr, yarr)"
      ],
      "id": "32025a8f-3366-4f9c-888c-62c8a2115c8e"
    },
    {
      "cell_type": "code",
      "execution_count": null,
      "metadata": {
        "colab": {
          "base_uri": "https://localhost:8080/"
        },
        "id": "499d1391-6093-4601-ac54-f8f3ef6af3a9",
        "outputId": "45576a3f-d34f-4c22-a2c4-f977718eae71"
      },
      "outputs": [
        {
          "output_type": "execute_result",
          "data": {
            "text/plain": [
              "array([1.1, 1.2, 1.3, 2. , 2. ])"
            ]
          },
          "metadata": {},
          "execution_count": 53
        }
      ],
      "source": [
        "np.where(xarr > 1.3, 2, xarr)"
      ],
      "id": "499d1391-6093-4601-ac54-f8f3ef6af3a9"
    },
    {
      "cell_type": "markdown",
      "metadata": {
        "id": "b8bab28b-6939-4269-84d0-f8661bf2f526"
      },
      "source": [
        "**Задача 3**\\\n",
        "Сгенерировать массив из случайных положительных чисел произвольной длины. Вывести элементы, которые больше среднего арифметического."
      ],
      "id": "b8bab28b-6939-4269-84d0-f8661bf2f526"
    },
    {
      "cell_type": "code",
      "execution_count": null,
      "metadata": {
        "id": "Dey-Z2XRtccJ"
      },
      "outputs": [],
      "source": [
        "arr = np.random.randint(1, high=100, size=10)"
      ],
      "id": "Dey-Z2XRtccJ"
    },
    {
      "cell_type": "code",
      "execution_count": null,
      "metadata": {
        "colab": {
          "base_uri": "https://localhost:8080/"
        },
        "id": "pM5W7tEUulSn",
        "outputId": "4326f2a8-c4e6-40e8-8e1d-c9f5e62e3d76"
      },
      "outputs": [
        {
          "output_type": "execute_result",
          "data": {
            "text/plain": [
              "array([89, 55, 99, 74, 85, 65, 65])"
            ]
          },
          "metadata": {},
          "execution_count": 55
        }
      ],
      "source": [
        "arr[arr > arr.mean()]"
      ],
      "id": "pM5W7tEUulSn"
    },
    {
      "cell_type": "markdown",
      "metadata": {
        "id": "952e4a55-5562-4f42-8713-b2c6ac7526f8"
      },
      "source": [
        "**Задача 4**\\\n",
        "Сгенерировать массив из 20 случайных элементов, элементы которого лежат в интервале [0, 10].\n",
        "+ Определить количество элементов, отличающихся от минимального на 5.\n",
        "+ Найти среднее арифметическое всех четных элементов массива, стоящих на нечетных местах."
      ],
      "id": "952e4a55-5562-4f42-8713-b2c6ac7526f8"
    },
    {
      "cell_type": "code",
      "execution_count": null,
      "metadata": {
        "id": "phGK9AyhuhHf",
        "colab": {
          "base_uri": "https://localhost:8080/"
        },
        "outputId": "52bec829-8bef-4ff8-d108-1b4ca6452bae"
      },
      "outputs": [
        {
          "output_type": "execute_result",
          "data": {
            "text/plain": [
              "array([4, 0, 8, 2, 5, 0, 7, 6, 1, 6, 9, 1, 3, 6, 3, 8, 2, 8, 5, 4])"
            ]
          },
          "metadata": {},
          "execution_count": 56
        }
      ],
      "source": [
        "arr = np.random.randint(0, high=10, size=20)\n",
        "arr"
      ],
      "id": "phGK9AyhuhHf"
    },
    {
      "cell_type": "code",
      "source": [
        "min_el = min(arr)\n",
        "num = sum(1 for _ in arr if abs(_ - min_el) == 5)\n",
        "\n",
        "print(f\"Количество элементов, отличающихся от минимального на 5: {num}\")"
      ],
      "metadata": {
        "colab": {
          "base_uri": "https://localhost:8080/"
        },
        "id": "LMDdqZHLK3g_",
        "outputId": "c99846cf-debf-4630-9367-b3a1ab72ada8"
      },
      "id": "LMDdqZHLK3g_",
      "execution_count": null,
      "outputs": [
        {
          "output_type": "stream",
          "name": "stdout",
          "text": [
            "Количество элементов, отличающихся от минимального на 5: 2\n"
          ]
        }
      ]
    },
    {
      "cell_type": "code",
      "source": [
        "#arr[(arr % 2 == 0) & (list(arr).index % 2 != 0)]\n",
        "average = np.mean([value for index, value in enumerate(arr) if (value % 2 == 0) and (index % 2 != 0)])\n",
        "print(f\"Среднее арифметическое всех четных элементов массива, стоящих на нечетных местах: {average}\")"
      ],
      "metadata": {
        "colab": {
          "base_uri": "https://localhost:8080/"
        },
        "id": "G-joKvkVY9me",
        "outputId": "55c84bec-16ba-4f28-cd5e-4db2f52d42c2"
      },
      "id": "G-joKvkVY9me",
      "execution_count": null,
      "outputs": [
        {
          "output_type": "stream",
          "name": "stdout",
          "text": [
            "Среднее арифметическое всех четных элементов массива, стоящих на нечетных местах: 4.444444444444445\n"
          ]
        }
      ]
    },
    {
      "cell_type": "markdown",
      "metadata": {
        "id": "06b8cde0-991c-4230-abe7-8b969c38a504"
      },
      "source": [
        "**Задача 5**\\\n",
        "Сгенерировать матрицу A размером 5 на 5, элементы которой лежат в интервале [1, 10].\n",
        "+ Возвести в квадрат максимальный элемент матрицы.\n",
        "+ Все четные числа заменить на 0."
      ],
      "id": "06b8cde0-991c-4230-abe7-8b969c38a504"
    },
    {
      "cell_type": "code",
      "source": [
        "matrix = np.random.randint(1, 10, (5, 5))\n",
        "matrix"
      ],
      "metadata": {
        "colab": {
          "base_uri": "https://localhost:8080/"
        },
        "id": "5uQKQUdViAwQ",
        "outputId": "0d397796-d39e-406c-8c94-4f498309b1d5"
      },
      "id": "5uQKQUdViAwQ",
      "execution_count": null,
      "outputs": [
        {
          "output_type": "execute_result",
          "data": {
            "text/plain": [
              "array([[9, 5, 8, 7, 3],\n",
              "       [7, 8, 7, 2, 1],\n",
              "       [5, 8, 6, 2, 1],\n",
              "       [4, 3, 5, 6, 5],\n",
              "       [3, 4, 3, 9, 3]])"
            ]
          },
          "metadata": {},
          "execution_count": 59
        }
      ]
    },
    {
      "cell_type": "code",
      "source": [
        "# возведем в квадрат максимальный элемент матрицы\n",
        "matrix[matrix == np.max(matrix)] = np.max(matrix) ** 2\n",
        "matrix"
      ],
      "metadata": {
        "colab": {
          "base_uri": "https://localhost:8080/"
        },
        "id": "vINmKdcgib9y",
        "outputId": "278436d2-4ea4-474b-b99b-eafb2edb538f"
      },
      "id": "vINmKdcgib9y",
      "execution_count": null,
      "outputs": [
        {
          "output_type": "execute_result",
          "data": {
            "text/plain": [
              "array([[81,  5,  8,  7,  3],\n",
              "       [ 7,  8,  7,  2,  1],\n",
              "       [ 5,  8,  6,  2,  1],\n",
              "       [ 4,  3,  5,  6,  5],\n",
              "       [ 3,  4,  3, 81,  3]])"
            ]
          },
          "metadata": {},
          "execution_count": 60
        }
      ]
    },
    {
      "cell_type": "code",
      "source": [
        "# четные числа заменим на 0\n",
        "matrix[matrix % 2 == 0] = 0\n",
        "matrix"
      ],
      "metadata": {
        "colab": {
          "base_uri": "https://localhost:8080/"
        },
        "id": "ib0430oVlv70",
        "outputId": "4c2d5e42-1e71-4fb7-e003-c1711bd64585"
      },
      "id": "ib0430oVlv70",
      "execution_count": null,
      "outputs": [
        {
          "output_type": "execute_result",
          "data": {
            "text/plain": [
              "array([[81,  5,  0,  7,  3],\n",
              "       [ 7,  0,  7,  0,  1],\n",
              "       [ 5,  0,  0,  0,  1],\n",
              "       [ 0,  3,  5,  0,  5],\n",
              "       [ 3,  0,  3, 81,  3]])"
            ]
          },
          "metadata": {},
          "execution_count": 61
        }
      ]
    },
    {
      "cell_type": "markdown",
      "metadata": {
        "id": "e2dcb4bb-9ed1-4f74-be4f-de65556bbf38"
      },
      "source": [
        "**Задача 6**\\\n",
        "Сгенерировать матрицу B размером 5 на 5, элементы которой лежат в интервале [-5, 5]. Отрицательные элементы матрицы заменить на число отрицательных элементов в строке, в которой они находятся."
      ],
      "id": "e2dcb4bb-9ed1-4f74-be4f-de65556bbf38"
    },
    {
      "cell_type": "code",
      "source": [
        "B = np.random.randint(-5, 5, (5, 5))\n",
        "B"
      ],
      "metadata": {
        "colab": {
          "base_uri": "https://localhost:8080/"
        },
        "id": "kvwbsKqtmFlv",
        "outputId": "58568f87-ccb8-4976-db00-c325d4df52fc"
      },
      "id": "kvwbsKqtmFlv",
      "execution_count": null,
      "outputs": [
        {
          "output_type": "execute_result",
          "data": {
            "text/plain": [
              "array([[ 3,  0, -1,  4, -5],\n",
              "       [-3,  1, -4, -3, -3],\n",
              "       [ 1,  0,  2, -1,  1],\n",
              "       [-5,  2, -5, -5, -2],\n",
              "       [-1,  3, -4, -1, -4]])"
            ]
          },
          "metadata": {},
          "execution_count": 84
        }
      ]
    },
    {
      "cell_type": "code",
      "source": [
        "for i in range(len(B)):\n",
        "    neg_count = len(B[i][B[i] < 0])\n",
        "    B[i] = np.where(B[i] < 0, len(B[i][B[i] < 0]), B[i])"
      ],
      "metadata": {
        "id": "f6xpbHTRpfrY"
      },
      "id": "f6xpbHTRpfrY",
      "execution_count": null,
      "outputs": []
    },
    {
      "cell_type": "code",
      "source": [
        "B"
      ],
      "metadata": {
        "colab": {
          "base_uri": "https://localhost:8080/"
        },
        "id": "bXqjS8DXLK59",
        "outputId": "4e0b6343-210b-40c2-cac1-392ed51c9e49"
      },
      "id": "bXqjS8DXLK59",
      "execution_count": null,
      "outputs": [
        {
          "output_type": "execute_result",
          "data": {
            "text/plain": [
              "array([[3, 0, 2, 4, 2],\n",
              "       [4, 1, 4, 4, 4],\n",
              "       [1, 0, 2, 1, 1],\n",
              "       [4, 2, 4, 4, 4],\n",
              "       [4, 3, 4, 4, 4]])"
            ]
          },
          "metadata": {},
          "execution_count": 86
        }
      ]
    },
    {
      "cell_type": "markdown",
      "metadata": {
        "id": "fab10d3e-9e74-44aa-bb0f-d203bc75789e"
      },
      "source": [
        "# Вспоминаем pandas несильно"
      ],
      "id": "fab10d3e-9e74-44aa-bb0f-d203bc75789e"
    },
    {
      "cell_type": "markdown",
      "metadata": {
        "id": "bb8bc5c9-d95c-45a6-8d59-354f948f78e4"
      },
      "source": [
        "Какие отличия между исследовательскими университетами и школами искусств?\n",
        "Используя данные из файла colleges, выдвините предположения о возможных различиях между двумя типами институтов.\n",
        "Для это проведите описательный анализ исходных данных.  Выдвините несколько гипотез.\n",
        "Например, \"В университеты поступить сложнее (процент принятых меньше)\"\n",
        "\n",
        "Формат файла\n",
        "+ School -  название школы\n",
        "+ School_Type - тип школы (школа искусств  'LibArts', исследовательский университет 'Univ')\n",
        "+ SAT - медиана объединенных значений Math и Verbal SAT  студентов\n",
        "+ Acceptance: - % принятых абитуриентов\n",
        "+ $/Student  -  Деньги, расходуемые на одного студента в среднем\n",
        "+ Top 10% -  % студентов в топ 10% выпускных классов\n",
        "+ %PhD -  %  факультетов, имеющих PhD\n",
        "+ Grad%: % студентов, которые успешно завершили обучение"
      ],
      "id": "bb8bc5c9-d95c-45a6-8d59-354f948f78e4"
    },
    {
      "cell_type": "code",
      "execution_count": 4,
      "metadata": {
        "id": "4aa369f4-6c1e-430d-9fff-ada1a10508b8"
      },
      "outputs": [],
      "source": [
        "df = pd.read_csv('colleges.txt', delimiter='\\t')"
      ],
      "id": "4aa369f4-6c1e-430d-9fff-ada1a10508b8"
    },
    {
      "cell_type": "code",
      "execution_count": 5,
      "metadata": {
        "id": "08d5d60f-6d5b-4767-b858-6eb3dfd1ad70",
        "colab": {
          "base_uri": "https://localhost:8080/",
          "height": 206
        },
        "outputId": "c36917bc-6f61-448c-8ec3-7790918f1b38"
      },
      "outputs": [
        {
          "output_type": "execute_result",
          "data": {
            "text/plain": [
              "       School School_Type   SAT  Acceptance  $/Student  Top 10%  %PhD  Grad%\n",
              "0     Amherst    Lib Arts  1315          22      26636       85    81     93\n",
              "1  Swarthmore    Lib Arts  1310          24      27487       78    93     88\n",
              "2    Williams    Lib Arts  1336          28      23772       86    90     93\n",
              "3     Bowdoin    Lib Arts  1300          24      25703       78    95     90\n",
              "4   Wellesley    Lib Arts  1250          49      27879       76    91     86"
            ],
            "text/html": [
              "\n",
              "  <div id=\"df-312c302f-4d88-4962-9d20-909c684da173\" class=\"colab-df-container\">\n",
              "    <div>\n",
              "<style scoped>\n",
              "    .dataframe tbody tr th:only-of-type {\n",
              "        vertical-align: middle;\n",
              "    }\n",
              "\n",
              "    .dataframe tbody tr th {\n",
              "        vertical-align: top;\n",
              "    }\n",
              "\n",
              "    .dataframe thead th {\n",
              "        text-align: right;\n",
              "    }\n",
              "</style>\n",
              "<table border=\"1\" class=\"dataframe\">\n",
              "  <thead>\n",
              "    <tr style=\"text-align: right;\">\n",
              "      <th></th>\n",
              "      <th>School</th>\n",
              "      <th>School_Type</th>\n",
              "      <th>SAT</th>\n",
              "      <th>Acceptance</th>\n",
              "      <th>$/Student</th>\n",
              "      <th>Top 10%</th>\n",
              "      <th>%PhD</th>\n",
              "      <th>Grad%</th>\n",
              "    </tr>\n",
              "  </thead>\n",
              "  <tbody>\n",
              "    <tr>\n",
              "      <th>0</th>\n",
              "      <td>Amherst</td>\n",
              "      <td>Lib Arts</td>\n",
              "      <td>1315</td>\n",
              "      <td>22</td>\n",
              "      <td>26636</td>\n",
              "      <td>85</td>\n",
              "      <td>81</td>\n",
              "      <td>93</td>\n",
              "    </tr>\n",
              "    <tr>\n",
              "      <th>1</th>\n",
              "      <td>Swarthmore</td>\n",
              "      <td>Lib Arts</td>\n",
              "      <td>1310</td>\n",
              "      <td>24</td>\n",
              "      <td>27487</td>\n",
              "      <td>78</td>\n",
              "      <td>93</td>\n",
              "      <td>88</td>\n",
              "    </tr>\n",
              "    <tr>\n",
              "      <th>2</th>\n",
              "      <td>Williams</td>\n",
              "      <td>Lib Arts</td>\n",
              "      <td>1336</td>\n",
              "      <td>28</td>\n",
              "      <td>23772</td>\n",
              "      <td>86</td>\n",
              "      <td>90</td>\n",
              "      <td>93</td>\n",
              "    </tr>\n",
              "    <tr>\n",
              "      <th>3</th>\n",
              "      <td>Bowdoin</td>\n",
              "      <td>Lib Arts</td>\n",
              "      <td>1300</td>\n",
              "      <td>24</td>\n",
              "      <td>25703</td>\n",
              "      <td>78</td>\n",
              "      <td>95</td>\n",
              "      <td>90</td>\n",
              "    </tr>\n",
              "    <tr>\n",
              "      <th>4</th>\n",
              "      <td>Wellesley</td>\n",
              "      <td>Lib Arts</td>\n",
              "      <td>1250</td>\n",
              "      <td>49</td>\n",
              "      <td>27879</td>\n",
              "      <td>76</td>\n",
              "      <td>91</td>\n",
              "      <td>86</td>\n",
              "    </tr>\n",
              "  </tbody>\n",
              "</table>\n",
              "</div>\n",
              "    <div class=\"colab-df-buttons\">\n",
              "\n",
              "  <div class=\"colab-df-container\">\n",
              "    <button class=\"colab-df-convert\" onclick=\"convertToInteractive('df-312c302f-4d88-4962-9d20-909c684da173')\"\n",
              "            title=\"Convert this dataframe to an interactive table.\"\n",
              "            style=\"display:none;\">\n",
              "\n",
              "  <svg xmlns=\"http://www.w3.org/2000/svg\" height=\"24px\" viewBox=\"0 -960 960 960\">\n",
              "    <path d=\"M120-120v-720h720v720H120Zm60-500h600v-160H180v160Zm220 220h160v-160H400v160Zm0 220h160v-160H400v160ZM180-400h160v-160H180v160Zm440 0h160v-160H620v160ZM180-180h160v-160H180v160Zm440 0h160v-160H620v160Z\"/>\n",
              "  </svg>\n",
              "    </button>\n",
              "\n",
              "  <style>\n",
              "    .colab-df-container {\n",
              "      display:flex;\n",
              "      gap: 12px;\n",
              "    }\n",
              "\n",
              "    .colab-df-convert {\n",
              "      background-color: #E8F0FE;\n",
              "      border: none;\n",
              "      border-radius: 50%;\n",
              "      cursor: pointer;\n",
              "      display: none;\n",
              "      fill: #1967D2;\n",
              "      height: 32px;\n",
              "      padding: 0 0 0 0;\n",
              "      width: 32px;\n",
              "    }\n",
              "\n",
              "    .colab-df-convert:hover {\n",
              "      background-color: #E2EBFA;\n",
              "      box-shadow: 0px 1px 2px rgba(60, 64, 67, 0.3), 0px 1px 3px 1px rgba(60, 64, 67, 0.15);\n",
              "      fill: #174EA6;\n",
              "    }\n",
              "\n",
              "    .colab-df-buttons div {\n",
              "      margin-bottom: 4px;\n",
              "    }\n",
              "\n",
              "    [theme=dark] .colab-df-convert {\n",
              "      background-color: #3B4455;\n",
              "      fill: #D2E3FC;\n",
              "    }\n",
              "\n",
              "    [theme=dark] .colab-df-convert:hover {\n",
              "      background-color: #434B5C;\n",
              "      box-shadow: 0px 1px 3px 1px rgba(0, 0, 0, 0.15);\n",
              "      filter: drop-shadow(0px 1px 2px rgba(0, 0, 0, 0.3));\n",
              "      fill: #FFFFFF;\n",
              "    }\n",
              "  </style>\n",
              "\n",
              "    <script>\n",
              "      const buttonEl =\n",
              "        document.querySelector('#df-312c302f-4d88-4962-9d20-909c684da173 button.colab-df-convert');\n",
              "      buttonEl.style.display =\n",
              "        google.colab.kernel.accessAllowed ? 'block' : 'none';\n",
              "\n",
              "      async function convertToInteractive(key) {\n",
              "        const element = document.querySelector('#df-312c302f-4d88-4962-9d20-909c684da173');\n",
              "        const dataTable =\n",
              "          await google.colab.kernel.invokeFunction('convertToInteractive',\n",
              "                                                    [key], {});\n",
              "        if (!dataTable) return;\n",
              "\n",
              "        const docLinkHtml = 'Like what you see? Visit the ' +\n",
              "          '<a target=\"_blank\" href=https://colab.research.google.com/notebooks/data_table.ipynb>data table notebook</a>'\n",
              "          + ' to learn more about interactive tables.';\n",
              "        element.innerHTML = '';\n",
              "        dataTable['output_type'] = 'display_data';\n",
              "        await google.colab.output.renderOutput(dataTable, element);\n",
              "        const docLink = document.createElement('div');\n",
              "        docLink.innerHTML = docLinkHtml;\n",
              "        element.appendChild(docLink);\n",
              "      }\n",
              "    </script>\n",
              "  </div>\n",
              "\n",
              "\n",
              "<div id=\"df-d4391faa-715d-4fcb-aa66-c190547f5f45\">\n",
              "  <button class=\"colab-df-quickchart\" onclick=\"quickchart('df-d4391faa-715d-4fcb-aa66-c190547f5f45')\"\n",
              "            title=\"Suggest charts\"\n",
              "            style=\"display:none;\">\n",
              "\n",
              "<svg xmlns=\"http://www.w3.org/2000/svg\" height=\"24px\"viewBox=\"0 0 24 24\"\n",
              "     width=\"24px\">\n",
              "    <g>\n",
              "        <path d=\"M19 3H5c-1.1 0-2 .9-2 2v14c0 1.1.9 2 2 2h14c1.1 0 2-.9 2-2V5c0-1.1-.9-2-2-2zM9 17H7v-7h2v7zm4 0h-2V7h2v10zm4 0h-2v-4h2v4z\"/>\n",
              "    </g>\n",
              "</svg>\n",
              "  </button>\n",
              "\n",
              "<style>\n",
              "  .colab-df-quickchart {\n",
              "      --bg-color: #E8F0FE;\n",
              "      --fill-color: #1967D2;\n",
              "      --hover-bg-color: #E2EBFA;\n",
              "      --hover-fill-color: #174EA6;\n",
              "      --disabled-fill-color: #AAA;\n",
              "      --disabled-bg-color: #DDD;\n",
              "  }\n",
              "\n",
              "  [theme=dark] .colab-df-quickchart {\n",
              "      --bg-color: #3B4455;\n",
              "      --fill-color: #D2E3FC;\n",
              "      --hover-bg-color: #434B5C;\n",
              "      --hover-fill-color: #FFFFFF;\n",
              "      --disabled-bg-color: #3B4455;\n",
              "      --disabled-fill-color: #666;\n",
              "  }\n",
              "\n",
              "  .colab-df-quickchart {\n",
              "    background-color: var(--bg-color);\n",
              "    border: none;\n",
              "    border-radius: 50%;\n",
              "    cursor: pointer;\n",
              "    display: none;\n",
              "    fill: var(--fill-color);\n",
              "    height: 32px;\n",
              "    padding: 0;\n",
              "    width: 32px;\n",
              "  }\n",
              "\n",
              "  .colab-df-quickchart:hover {\n",
              "    background-color: var(--hover-bg-color);\n",
              "    box-shadow: 0 1px 2px rgba(60, 64, 67, 0.3), 0 1px 3px 1px rgba(60, 64, 67, 0.15);\n",
              "    fill: var(--button-hover-fill-color);\n",
              "  }\n",
              "\n",
              "  .colab-df-quickchart-complete:disabled,\n",
              "  .colab-df-quickchart-complete:disabled:hover {\n",
              "    background-color: var(--disabled-bg-color);\n",
              "    fill: var(--disabled-fill-color);\n",
              "    box-shadow: none;\n",
              "  }\n",
              "\n",
              "  .colab-df-spinner {\n",
              "    border: 2px solid var(--fill-color);\n",
              "    border-color: transparent;\n",
              "    border-bottom-color: var(--fill-color);\n",
              "    animation:\n",
              "      spin 1s steps(1) infinite;\n",
              "  }\n",
              "\n",
              "  @keyframes spin {\n",
              "    0% {\n",
              "      border-color: transparent;\n",
              "      border-bottom-color: var(--fill-color);\n",
              "      border-left-color: var(--fill-color);\n",
              "    }\n",
              "    20% {\n",
              "      border-color: transparent;\n",
              "      border-left-color: var(--fill-color);\n",
              "      border-top-color: var(--fill-color);\n",
              "    }\n",
              "    30% {\n",
              "      border-color: transparent;\n",
              "      border-left-color: var(--fill-color);\n",
              "      border-top-color: var(--fill-color);\n",
              "      border-right-color: var(--fill-color);\n",
              "    }\n",
              "    40% {\n",
              "      border-color: transparent;\n",
              "      border-right-color: var(--fill-color);\n",
              "      border-top-color: var(--fill-color);\n",
              "    }\n",
              "    60% {\n",
              "      border-color: transparent;\n",
              "      border-right-color: var(--fill-color);\n",
              "    }\n",
              "    80% {\n",
              "      border-color: transparent;\n",
              "      border-right-color: var(--fill-color);\n",
              "      border-bottom-color: var(--fill-color);\n",
              "    }\n",
              "    90% {\n",
              "      border-color: transparent;\n",
              "      border-bottom-color: var(--fill-color);\n",
              "    }\n",
              "  }\n",
              "</style>\n",
              "\n",
              "  <script>\n",
              "    async function quickchart(key) {\n",
              "      const quickchartButtonEl =\n",
              "        document.querySelector('#' + key + ' button');\n",
              "      quickchartButtonEl.disabled = true;  // To prevent multiple clicks.\n",
              "      quickchartButtonEl.classList.add('colab-df-spinner');\n",
              "      try {\n",
              "        const charts = await google.colab.kernel.invokeFunction(\n",
              "            'suggestCharts', [key], {});\n",
              "      } catch (error) {\n",
              "        console.error('Error during call to suggestCharts:', error);\n",
              "      }\n",
              "      quickchartButtonEl.classList.remove('colab-df-spinner');\n",
              "      quickchartButtonEl.classList.add('colab-df-quickchart-complete');\n",
              "    }\n",
              "    (() => {\n",
              "      let quickchartButtonEl =\n",
              "        document.querySelector('#df-d4391faa-715d-4fcb-aa66-c190547f5f45 button');\n",
              "      quickchartButtonEl.style.display =\n",
              "        google.colab.kernel.accessAllowed ? 'block' : 'none';\n",
              "    })();\n",
              "  </script>\n",
              "</div>\n",
              "    </div>\n",
              "  </div>\n"
            ],
            "application/vnd.google.colaboratory.intrinsic+json": {
              "type": "dataframe",
              "variable_name": "df",
              "summary": "{\n  \"name\": \"df\",\n  \"rows\": 50,\n  \"fields\": [\n    {\n      \"column\": \"School\",\n      \"properties\": {\n        \"dtype\": \"string\",\n        \"samples\": [\n          \"Oberlin\",\n          \"Johns Hopkins\",\n          \"MIT\"\n        ],\n        \"num_unique_values\": 50,\n        \"semantic_type\": \"\",\n        \"description\": \"\"\n      }\n    },\n    {\n      \"column\": \"School_Type\",\n      \"properties\": {\n        \"dtype\": \"category\",\n        \"samples\": [\n          \"Univ\",\n          \"Lib Arts\"\n        ],\n        \"num_unique_values\": 2,\n        \"semantic_type\": \"\",\n        \"description\": \"\"\n      }\n    },\n    {\n      \"column\": \"SAT\",\n      \"properties\": {\n        \"dtype\": \"number\",\n        \"std\": 62,\n        \"min\": 1109,\n        \"max\": 1400,\n        \"samples\": [\n          1142,\n          1109\n        ],\n        \"num_unique_values\": 39,\n        \"semantic_type\": \"\",\n        \"description\": \"\"\n      }\n    },\n    {\n      \"column\": \"Acceptance\",\n      \"properties\": {\n        \"dtype\": \"number\",\n        \"std\": 13,\n        \"min\": 17,\n        \"max\": 67,\n        \"samples\": [\n          60,\n          46\n        ],\n        \"num_unique_values\": 32,\n        \"semantic_type\": \"\",\n        \"description\": \"\"\n      }\n    },\n    {\n      \"column\": \"$/Student\",\n      \"properties\": {\n        \"dtype\": \"number\",\n        \"std\": 15266,\n        \"min\": 17520,\n        \"max\": 102262,\n        \"samples\": [\n          23591,\n          45460\n        ],\n        \"num_unique_values\": 50,\n        \"semantic_type\": \"\",\n        \"description\": \"\"\n      }\n    },\n    {\n      \"column\": \"Top 10%\",\n      \"properties\": {\n        \"dtype\": \"number\",\n        \"std\": 13,\n        \"min\": 47,\n        \"max\": 98,\n        \"samples\": [\n          87,\n          51\n        ],\n        \"num_unique_values\": 32,\n        \"semantic_type\": \"\",\n        \"description\": \"\"\n      }\n    },\n    {\n      \"column\": \"%PhD\",\n      \"properties\": {\n        \"dtype\": \"number\",\n        \"std\": 8,\n        \"min\": 58,\n        \"max\": 100,\n        \"samples\": [\n          81,\n          97\n        ],\n        \"num_unique_values\": 21,\n        \"semantic_type\": \"\",\n        \"description\": \"\"\n      }\n    },\n    {\n      \"column\": \"Grad%\",\n      \"properties\": {\n        \"dtype\": \"number\",\n        \"std\": 7,\n        \"min\": 61,\n        \"max\": 95,\n        \"samples\": [\n          85,\n          84\n        ],\n        \"num_unique_values\": 23,\n        \"semantic_type\": \"\",\n        \"description\": \"\"\n      }\n    }\n  ]\n}"
            }
          },
          "metadata": {},
          "execution_count": 5
        }
      ],
      "source": [
        "df.head()"
      ],
      "id": "08d5d60f-6d5b-4767-b858-6eb3dfd1ad70"
    },
    {
      "cell_type": "markdown",
      "metadata": {
        "id": "7642825c-5811-4136-ad20-11234d61fd37"
      },
      "source": [
        "В сведения о датафрейме входит общая информация о нём вроде заголовка, количества значений, типов данных столбцов."
      ],
      "id": "7642825c-5811-4136-ad20-11234d61fd37"
    },
    {
      "cell_type": "code",
      "execution_count": null,
      "metadata": {
        "id": "346d0b4b-348f-48d3-8d7d-c605378357ea",
        "colab": {
          "base_uri": "https://localhost:8080/"
        },
        "outputId": "2a7e0be2-7048-45fd-96d7-6bb5edb4ce5f"
      },
      "outputs": [
        {
          "output_type": "stream",
          "name": "stdout",
          "text": [
            "<class 'pandas.core.frame.DataFrame'>\n",
            "RangeIndex: 50 entries, 0 to 49\n",
            "Data columns (total 8 columns):\n",
            " #   Column       Non-Null Count  Dtype \n",
            "---  ------       --------------  ----- \n",
            " 0   School       50 non-null     object\n",
            " 1   School_Type  50 non-null     object\n",
            " 2   SAT          50 non-null     int64 \n",
            " 3   Acceptance   50 non-null     int64 \n",
            " 4   $/Student    50 non-null     int64 \n",
            " 5   Top 10%      50 non-null     int64 \n",
            " 6   %PhD         50 non-null     int64 \n",
            " 7   Grad%        50 non-null     int64 \n",
            "dtypes: int64(6), object(2)\n",
            "memory usage: 3.2+ KB\n"
          ]
        }
      ],
      "source": [
        "df.info()"
      ],
      "id": "346d0b4b-348f-48d3-8d7d-c605378357ea"
    },
    {
      "cell_type": "markdown",
      "metadata": {
        "id": "dc5d50cd-47ee-4461-9435-a87b12476e13"
      },
      "source": [
        "Вывод статистических сведений о датафрейме:"
      ],
      "id": "dc5d50cd-47ee-4461-9435-a87b12476e13"
    },
    {
      "cell_type": "code",
      "execution_count": null,
      "metadata": {
        "id": "b2e7acef-b4e0-4589-ba61-e65e7740cba1",
        "colab": {
          "base_uri": "https://localhost:8080/",
          "height": 300
        },
        "outputId": "c0317e01-854b-40ab-a76d-6d46f5f31738"
      },
      "outputs": [
        {
          "output_type": "execute_result",
          "data": {
            "text/plain": [
              "               SAT  Acceptance      $/Student    Top 10%        %PhD  \\\n",
              "count    50.000000   50.000000      50.000000  50.000000   50.000000   \n",
              "mean   1263.960000   37.840000   30247.200000  74.440000   90.560000   \n",
              "std      62.329591   13.363612   15266.172682  13.515162    8.258972   \n",
              "min    1109.000000   17.000000   17520.000000  47.000000   58.000000   \n",
              "25%    1225.000000   25.750000   20182.250000  65.000000   86.250000   \n",
              "50%    1264.000000   36.000000   24994.500000  76.500000   93.000000   \n",
              "75%    1304.500000   47.750000   36803.750000  85.000000   97.750000   \n",
              "max    1400.000000   67.000000  102262.000000  98.000000  100.000000   \n",
              "\n",
              "           Grad%  \n",
              "count  50.000000  \n",
              "mean   83.480000  \n",
              "std     7.557237  \n",
              "min    61.000000  \n",
              "25%    77.250000  \n",
              "50%    85.500000  \n",
              "75%    89.000000  \n",
              "max    95.000000  "
            ],
            "text/html": [
              "\n",
              "  <div id=\"df-a0e8643b-f376-4afb-951f-08e7ac28541f\" class=\"colab-df-container\">\n",
              "    <div>\n",
              "<style scoped>\n",
              "    .dataframe tbody tr th:only-of-type {\n",
              "        vertical-align: middle;\n",
              "    }\n",
              "\n",
              "    .dataframe tbody tr th {\n",
              "        vertical-align: top;\n",
              "    }\n",
              "\n",
              "    .dataframe thead th {\n",
              "        text-align: right;\n",
              "    }\n",
              "</style>\n",
              "<table border=\"1\" class=\"dataframe\">\n",
              "  <thead>\n",
              "    <tr style=\"text-align: right;\">\n",
              "      <th></th>\n",
              "      <th>SAT</th>\n",
              "      <th>Acceptance</th>\n",
              "      <th>$/Student</th>\n",
              "      <th>Top 10%</th>\n",
              "      <th>%PhD</th>\n",
              "      <th>Grad%</th>\n",
              "    </tr>\n",
              "  </thead>\n",
              "  <tbody>\n",
              "    <tr>\n",
              "      <th>count</th>\n",
              "      <td>50.000000</td>\n",
              "      <td>50.000000</td>\n",
              "      <td>50.000000</td>\n",
              "      <td>50.000000</td>\n",
              "      <td>50.000000</td>\n",
              "      <td>50.000000</td>\n",
              "    </tr>\n",
              "    <tr>\n",
              "      <th>mean</th>\n",
              "      <td>1263.960000</td>\n",
              "      <td>37.840000</td>\n",
              "      <td>30247.200000</td>\n",
              "      <td>74.440000</td>\n",
              "      <td>90.560000</td>\n",
              "      <td>83.480000</td>\n",
              "    </tr>\n",
              "    <tr>\n",
              "      <th>std</th>\n",
              "      <td>62.329591</td>\n",
              "      <td>13.363612</td>\n",
              "      <td>15266.172682</td>\n",
              "      <td>13.515162</td>\n",
              "      <td>8.258972</td>\n",
              "      <td>7.557237</td>\n",
              "    </tr>\n",
              "    <tr>\n",
              "      <th>min</th>\n",
              "      <td>1109.000000</td>\n",
              "      <td>17.000000</td>\n",
              "      <td>17520.000000</td>\n",
              "      <td>47.000000</td>\n",
              "      <td>58.000000</td>\n",
              "      <td>61.000000</td>\n",
              "    </tr>\n",
              "    <tr>\n",
              "      <th>25%</th>\n",
              "      <td>1225.000000</td>\n",
              "      <td>25.750000</td>\n",
              "      <td>20182.250000</td>\n",
              "      <td>65.000000</td>\n",
              "      <td>86.250000</td>\n",
              "      <td>77.250000</td>\n",
              "    </tr>\n",
              "    <tr>\n",
              "      <th>50%</th>\n",
              "      <td>1264.000000</td>\n",
              "      <td>36.000000</td>\n",
              "      <td>24994.500000</td>\n",
              "      <td>76.500000</td>\n",
              "      <td>93.000000</td>\n",
              "      <td>85.500000</td>\n",
              "    </tr>\n",
              "    <tr>\n",
              "      <th>75%</th>\n",
              "      <td>1304.500000</td>\n",
              "      <td>47.750000</td>\n",
              "      <td>36803.750000</td>\n",
              "      <td>85.000000</td>\n",
              "      <td>97.750000</td>\n",
              "      <td>89.000000</td>\n",
              "    </tr>\n",
              "    <tr>\n",
              "      <th>max</th>\n",
              "      <td>1400.000000</td>\n",
              "      <td>67.000000</td>\n",
              "      <td>102262.000000</td>\n",
              "      <td>98.000000</td>\n",
              "      <td>100.000000</td>\n",
              "      <td>95.000000</td>\n",
              "    </tr>\n",
              "  </tbody>\n",
              "</table>\n",
              "</div>\n",
              "    <div class=\"colab-df-buttons\">\n",
              "\n",
              "  <div class=\"colab-df-container\">\n",
              "    <button class=\"colab-df-convert\" onclick=\"convertToInteractive('df-a0e8643b-f376-4afb-951f-08e7ac28541f')\"\n",
              "            title=\"Convert this dataframe to an interactive table.\"\n",
              "            style=\"display:none;\">\n",
              "\n",
              "  <svg xmlns=\"http://www.w3.org/2000/svg\" height=\"24px\" viewBox=\"0 -960 960 960\">\n",
              "    <path d=\"M120-120v-720h720v720H120Zm60-500h600v-160H180v160Zm220 220h160v-160H400v160Zm0 220h160v-160H400v160ZM180-400h160v-160H180v160Zm440 0h160v-160H620v160ZM180-180h160v-160H180v160Zm440 0h160v-160H620v160Z\"/>\n",
              "  </svg>\n",
              "    </button>\n",
              "\n",
              "  <style>\n",
              "    .colab-df-container {\n",
              "      display:flex;\n",
              "      gap: 12px;\n",
              "    }\n",
              "\n",
              "    .colab-df-convert {\n",
              "      background-color: #E8F0FE;\n",
              "      border: none;\n",
              "      border-radius: 50%;\n",
              "      cursor: pointer;\n",
              "      display: none;\n",
              "      fill: #1967D2;\n",
              "      height: 32px;\n",
              "      padding: 0 0 0 0;\n",
              "      width: 32px;\n",
              "    }\n",
              "\n",
              "    .colab-df-convert:hover {\n",
              "      background-color: #E2EBFA;\n",
              "      box-shadow: 0px 1px 2px rgba(60, 64, 67, 0.3), 0px 1px 3px 1px rgba(60, 64, 67, 0.15);\n",
              "      fill: #174EA6;\n",
              "    }\n",
              "\n",
              "    .colab-df-buttons div {\n",
              "      margin-bottom: 4px;\n",
              "    }\n",
              "\n",
              "    [theme=dark] .colab-df-convert {\n",
              "      background-color: #3B4455;\n",
              "      fill: #D2E3FC;\n",
              "    }\n",
              "\n",
              "    [theme=dark] .colab-df-convert:hover {\n",
              "      background-color: #434B5C;\n",
              "      box-shadow: 0px 1px 3px 1px rgba(0, 0, 0, 0.15);\n",
              "      filter: drop-shadow(0px 1px 2px rgba(0, 0, 0, 0.3));\n",
              "      fill: #FFFFFF;\n",
              "    }\n",
              "  </style>\n",
              "\n",
              "    <script>\n",
              "      const buttonEl =\n",
              "        document.querySelector('#df-a0e8643b-f376-4afb-951f-08e7ac28541f button.colab-df-convert');\n",
              "      buttonEl.style.display =\n",
              "        google.colab.kernel.accessAllowed ? 'block' : 'none';\n",
              "\n",
              "      async function convertToInteractive(key) {\n",
              "        const element = document.querySelector('#df-a0e8643b-f376-4afb-951f-08e7ac28541f');\n",
              "        const dataTable =\n",
              "          await google.colab.kernel.invokeFunction('convertToInteractive',\n",
              "                                                    [key], {});\n",
              "        if (!dataTable) return;\n",
              "\n",
              "        const docLinkHtml = 'Like what you see? Visit the ' +\n",
              "          '<a target=\"_blank\" href=https://colab.research.google.com/notebooks/data_table.ipynb>data table notebook</a>'\n",
              "          + ' to learn more about interactive tables.';\n",
              "        element.innerHTML = '';\n",
              "        dataTable['output_type'] = 'display_data';\n",
              "        await google.colab.output.renderOutput(dataTable, element);\n",
              "        const docLink = document.createElement('div');\n",
              "        docLink.innerHTML = docLinkHtml;\n",
              "        element.appendChild(docLink);\n",
              "      }\n",
              "    </script>\n",
              "  </div>\n",
              "\n",
              "\n",
              "<div id=\"df-39c4da90-1f46-4d24-a5c0-d91aeff5d234\">\n",
              "  <button class=\"colab-df-quickchart\" onclick=\"quickchart('df-39c4da90-1f46-4d24-a5c0-d91aeff5d234')\"\n",
              "            title=\"Suggest charts\"\n",
              "            style=\"display:none;\">\n",
              "\n",
              "<svg xmlns=\"http://www.w3.org/2000/svg\" height=\"24px\"viewBox=\"0 0 24 24\"\n",
              "     width=\"24px\">\n",
              "    <g>\n",
              "        <path d=\"M19 3H5c-1.1 0-2 .9-2 2v14c0 1.1.9 2 2 2h14c1.1 0 2-.9 2-2V5c0-1.1-.9-2-2-2zM9 17H7v-7h2v7zm4 0h-2V7h2v10zm4 0h-2v-4h2v4z\"/>\n",
              "    </g>\n",
              "</svg>\n",
              "  </button>\n",
              "\n",
              "<style>\n",
              "  .colab-df-quickchart {\n",
              "      --bg-color: #E8F0FE;\n",
              "      --fill-color: #1967D2;\n",
              "      --hover-bg-color: #E2EBFA;\n",
              "      --hover-fill-color: #174EA6;\n",
              "      --disabled-fill-color: #AAA;\n",
              "      --disabled-bg-color: #DDD;\n",
              "  }\n",
              "\n",
              "  [theme=dark] .colab-df-quickchart {\n",
              "      --bg-color: #3B4455;\n",
              "      --fill-color: #D2E3FC;\n",
              "      --hover-bg-color: #434B5C;\n",
              "      --hover-fill-color: #FFFFFF;\n",
              "      --disabled-bg-color: #3B4455;\n",
              "      --disabled-fill-color: #666;\n",
              "  }\n",
              "\n",
              "  .colab-df-quickchart {\n",
              "    background-color: var(--bg-color);\n",
              "    border: none;\n",
              "    border-radius: 50%;\n",
              "    cursor: pointer;\n",
              "    display: none;\n",
              "    fill: var(--fill-color);\n",
              "    height: 32px;\n",
              "    padding: 0;\n",
              "    width: 32px;\n",
              "  }\n",
              "\n",
              "  .colab-df-quickchart:hover {\n",
              "    background-color: var(--hover-bg-color);\n",
              "    box-shadow: 0 1px 2px rgba(60, 64, 67, 0.3), 0 1px 3px 1px rgba(60, 64, 67, 0.15);\n",
              "    fill: var(--button-hover-fill-color);\n",
              "  }\n",
              "\n",
              "  .colab-df-quickchart-complete:disabled,\n",
              "  .colab-df-quickchart-complete:disabled:hover {\n",
              "    background-color: var(--disabled-bg-color);\n",
              "    fill: var(--disabled-fill-color);\n",
              "    box-shadow: none;\n",
              "  }\n",
              "\n",
              "  .colab-df-spinner {\n",
              "    border: 2px solid var(--fill-color);\n",
              "    border-color: transparent;\n",
              "    border-bottom-color: var(--fill-color);\n",
              "    animation:\n",
              "      spin 1s steps(1) infinite;\n",
              "  }\n",
              "\n",
              "  @keyframes spin {\n",
              "    0% {\n",
              "      border-color: transparent;\n",
              "      border-bottom-color: var(--fill-color);\n",
              "      border-left-color: var(--fill-color);\n",
              "    }\n",
              "    20% {\n",
              "      border-color: transparent;\n",
              "      border-left-color: var(--fill-color);\n",
              "      border-top-color: var(--fill-color);\n",
              "    }\n",
              "    30% {\n",
              "      border-color: transparent;\n",
              "      border-left-color: var(--fill-color);\n",
              "      border-top-color: var(--fill-color);\n",
              "      border-right-color: var(--fill-color);\n",
              "    }\n",
              "    40% {\n",
              "      border-color: transparent;\n",
              "      border-right-color: var(--fill-color);\n",
              "      border-top-color: var(--fill-color);\n",
              "    }\n",
              "    60% {\n",
              "      border-color: transparent;\n",
              "      border-right-color: var(--fill-color);\n",
              "    }\n",
              "    80% {\n",
              "      border-color: transparent;\n",
              "      border-right-color: var(--fill-color);\n",
              "      border-bottom-color: var(--fill-color);\n",
              "    }\n",
              "    90% {\n",
              "      border-color: transparent;\n",
              "      border-bottom-color: var(--fill-color);\n",
              "    }\n",
              "  }\n",
              "</style>\n",
              "\n",
              "  <script>\n",
              "    async function quickchart(key) {\n",
              "      const quickchartButtonEl =\n",
              "        document.querySelector('#' + key + ' button');\n",
              "      quickchartButtonEl.disabled = true;  // To prevent multiple clicks.\n",
              "      quickchartButtonEl.classList.add('colab-df-spinner');\n",
              "      try {\n",
              "        const charts = await google.colab.kernel.invokeFunction(\n",
              "            'suggestCharts', [key], {});\n",
              "      } catch (error) {\n",
              "        console.error('Error during call to suggestCharts:', error);\n",
              "      }\n",
              "      quickchartButtonEl.classList.remove('colab-df-spinner');\n",
              "      quickchartButtonEl.classList.add('colab-df-quickchart-complete');\n",
              "    }\n",
              "    (() => {\n",
              "      let quickchartButtonEl =\n",
              "        document.querySelector('#df-39c4da90-1f46-4d24-a5c0-d91aeff5d234 button');\n",
              "      quickchartButtonEl.style.display =\n",
              "        google.colab.kernel.accessAllowed ? 'block' : 'none';\n",
              "    })();\n",
              "  </script>\n",
              "</div>\n",
              "    </div>\n",
              "  </div>\n"
            ]
          },
          "metadata": {},
          "execution_count": 90
        }
      ],
      "source": [
        "df.describe()"
      ],
      "id": "b2e7acef-b4e0-4589-ba61-e65e7740cba1"
    },
    {
      "cell_type": "markdown",
      "metadata": {
        "id": "f230c49a-85ab-4bf2-8b6a-e3cc15544bbe"
      },
      "source": [
        "**Задание 1**\\\n",
        "Проверить являются ли выборки связными."
      ],
      "id": "f230c49a-85ab-4bf2-8b6a-e3cc15544bbe"
    },
    {
      "cell_type": "code",
      "execution_count": null,
      "metadata": {
        "id": "U45q4j1AvSXs"
      },
      "outputs": [],
      "source": [
        "# нет"
      ],
      "id": "U45q4j1AvSXs"
    },
    {
      "cell_type": "markdown",
      "metadata": {
        "id": "3342d448-2170-49cc-8560-51fc1391db3a"
      },
      "source": [
        "**Задание 2**\\\n",
        "Постройте ящики с усами по каждой из характеристик (SAT ... Grad%) для каждого типа институтов. Какие из следующих утверждений верны (речь идет о наблюдаемых данных)?"
      ],
      "id": "3342d448-2170-49cc-8560-51fc1391db3a"
    },
    {
      "cell_type": "code",
      "execution_count": 8,
      "metadata": {
        "id": "N-B8ZBMNvjPh",
        "colab": {
          "base_uri": "https://localhost:8080/",
          "height": 430
        },
        "outputId": "7e8f7066-5d77-4817-e9f6-492b434a0d3a"
      },
      "outputs": [
        {
          "output_type": "display_data",
          "data": {
            "text/plain": [
              "<Figure size 640x480 with 1 Axes>"
            ],
            "image/png": "[encoded data removed]"
          },
          "metadata": {}
        }
      ],
      "source": [
        "df_art = df[df['School_Type'] == 'Lib Arts']\n",
        "df_univ = df[df['School_Type'] == 'Univ']\n",
        "\n",
        "plt.boxplot([df_art['SAT'], df_univ['SAT']], labels=['Liberal Arts', 'University'])\n",
        "plt.show()"
      ],
      "id": "N-B8ZBMNvjPh"
    },
    {
      "cell_type": "code",
      "source": [
        "plt.boxplot([df_art['Acceptance'], df_univ['Acceptance']], labels=['Liberal Arts', 'University'])\n",
        "plt.show()"
      ],
      "metadata": {
        "colab": {
          "base_uri": "https://localhost:8080/",
          "height": 430
        },
        "id": "IjjL-hjGdR_o",
        "outputId": "ef0a2769-7aca-4eb5-9e6d-50acbb52135f"
      },
      "id": "IjjL-hjGdR_o",
      "execution_count": 9,
      "outputs": [
        {
          "output_type": "display_data",
          "data": {
            "text/plain": [
              "<Figure size 640x480 with 1 Axes>"
            ],
            "image/png": "[encoded data removed]"
          },
          "metadata": {}
        }
      ]
    },
    {
      "cell_type": "code",
      "source": [
        "plt.boxplot([df_art['$/Student'], df_univ['$/Student']], labels=['Liberal Arts', 'University'])\n",
        "plt.show()"
      ],
      "metadata": {
        "colab": {
          "base_uri": "https://localhost:8080/",
          "height": 430
        },
        "id": "9PHs0XemdUw6",
        "outputId": "a56398f1-2e02-4088-b391-7e167d222667"
      },
      "id": "9PHs0XemdUw6",
      "execution_count": 10,
      "outputs": [
        {
          "output_type": "display_data",
          "data": {
            "text/plain": [
              "<Figure size 640x480 with 1 Axes>"
            ],
            "image/png": "[encoded data removed]"
          },
          "metadata": {}
        }
      ]
    },
    {
      "cell_type": "code",
      "source": [
        "plt.boxplot([df_art['Top 10%'], df_univ['Top 10%']], labels=['Lib Arts', 'Univ'])\n",
        "plt.show()"
      ],
      "metadata": {
        "colab": {
          "base_uri": "https://localhost:8080/",
          "height": 432
        },
        "id": "FQZGkeQ5dcnV",
        "outputId": "78905d91-f8ae-43be-d505-034ce36632ca"
      },
      "id": "FQZGkeQ5dcnV",
      "execution_count": 11,
      "outputs": [
        {
          "output_type": "display_data",
          "data": {
            "text/plain": [
              "<Figure size 640x480 with 1 Axes>"
            ],
            "image/png": "[encoded data removed]"
          },
          "metadata": {}
        }
      ]
    },
    {
      "cell_type": "code",
      "source": [
        "plt.boxplot([df_art['%PhD'], df_univ['%PhD']], labels=['Liberal Arts', 'University'])\n",
        "plt.show()"
      ],
      "metadata": {
        "colab": {
          "base_uri": "https://localhost:8080/",
          "height": 430
        },
        "id": "DnwtwhgcdjA7",
        "outputId": "5dfb0a3e-4b44-41d7-c9a1-7ea9dab5c613"
      },
      "id": "DnwtwhgcdjA7",
      "execution_count": 13,
      "outputs": [
        {
          "output_type": "display_data",
          "data": {
            "text/plain": [
              "<Figure size 640x480 with 1 Axes>"
            ],
            "image/png": "[encoded data removed]"
          },
          "metadata": {}
        }
      ]
    },
    {
      "cell_type": "code",
      "source": [
        "plt.boxplot([df_art['Grad%'], df_univ['Grad%']], labels=['Liberal Arts', 'University'])\n",
        "plt.show()"
      ],
      "metadata": {
        "colab": {
          "base_uri": "https://localhost:8080/",
          "height": 430
        },
        "id": "rABAnF1hdm7T",
        "outputId": "d0ccd114-c533-4acb-ac9f-a72ce0908ea6"
      },
      "id": "rABAnF1hdm7T",
      "execution_count": 15,
      "outputs": [
        {
          "output_type": "display_data",
          "data": {
            "text/plain": [
              "<Figure size 640x480 with 1 Axes>"
            ],
            "image/png": "[encoded data removed]"
          },
          "metadata": {}
        }
      ]
    },
    {
      "cell_type": "code",
      "execution_count": 25,
      "metadata": {
        "id": "3c2519fb-8814-49ed-8638-4b658cd18bb1",
        "colab": {
          "base_uri": "https://localhost:8080/",
          "height": 202
        },
        "outputId": "f3f8afce-cf38-46eb-8b09-42ee5fab5b5e"
      },
      "outputs": [
        {
          "output_type": "display_data",
          "data": {
            "text/plain": [
              "<IPython.core.display.HTML object>"
            ],
            "text/html": [
              "<input type=\"checkbox\" id=\"0\">\n",
              "<label for=\"0\">% процент принятых студентов в школах искусств заметно ниже, чем в университетах</label><br>\n",
              "\n",
              "<input type=\"checkbox\" id=\"1\">\n",
              "<label for=\"1\">Разброс средств, расходуемых в среднем на одного студента, в школах искусств больше, чем в университетах</label><br>\n",
              "\n",
              "<input type=\"checkbox\" id=\"2\">\n",
              "<label for=\"2\">% процент принятых студентов в школах искусств и в университетах примерно равны</label><br>\n",
              "\n",
              "<input type=\"checkbox\" id=\"3\">\n",
              "<label for=\"3\">Разброс баллов SAT в университетах ниже, чем в школах искусств</label><br>\n",
              "\n",
              "<input type=\"checkbox\" id=\"0\">\n",
              "<label for=\"0\">Разброс баллов SAT в университетах выше, чем в школах искусств</label><br>\n",
              "\n",
              "<input type=\"checkbox\" id=\"0\">\n",
              "<label for=\"0\">Разброс средств, расходуемых в среднем на одного студента, в школах искусств меньше, чем в университетах</label><br>\n",
              "\n",
              "<input type=\"checkbox\" id=\"0\">\n",
              "<label for=\"0\">В одном из университетов тратят сильно больше денег в среднем на одного студента, чем в других университетах</label><br>\n",
              "\n",
              "<input type=\"checkbox\" id=\"0\">\n",
              "<label for=\"0\">Разброс баллов SAT в университетах и школах искусств практически не различается</label><br>\n",
              "\n",
              "<input type=\"checkbox\" id=\"0\">\n",
              "<label for=\"0\">% процент принятых студентов в школах искусств заметно выше, чем в университетах</label><br>\n"
            ]
          },
          "metadata": {}
        }
      ],
      "source": [
        "%%HTML\n",
        "<input type=\"checkbox\" id=\"0\">\n",
        "<label for=\"0\">% процент принятых студентов в школах искусств заметно ниже, чем в университетах</label><br>\n",
        "\n",
        "<input type=\"checkbox\" id=\"1\">\n",
        "<label for=\"1\">Разброс средств, расходуемых в среднем на одного студента, в школах искусств больше, чем в университетах</label><br>\n",
        "\n",
        "<input type=\"checkbox\" id=\"2\">\n",
        "<label for=\"2\">% процент принятых студентов в школах искусств и в университетах примерно равны</label><br>\n",
        "\n",
        "<input type=\"checkbox\" id=\"3\">\n",
        "<label for=\"3\">Разброс баллов SAT в университетах ниже, чем в школах искусств</label><br>\n",
        "\n",
        "<input type=\"checkbox\" id=\"0\">\n",
        "<label for=\"0\">Разброс баллов SAT в университетах выше, чем в школах искусств</label><br>\n",
        "\n",
        "<input type=\"checkbox\" id=\"0\">\n",
        "<label for=\"0\">Разброс средств, расходуемых в среднем на одного студента, в школах искусств меньше, чем в университетах</label><br>\n",
        "\n",
        "<input type=\"checkbox\" id=\"0\">\n",
        "<label for=\"0\">В одном из университетов тратят сильно больше денег в среднем на одного студента, чем в других университетах</label><br>\n",
        "\n",
        "<input type=\"checkbox\" id=\"0\">\n",
        "<label for=\"0\">Разброс баллов SAT в университетах и школах искусств практически не различается</label><br>\n",
        "\n",
        "<input type=\"checkbox\" id=\"0\">\n",
        "<label for=\"0\">% процент принятых студентов в школах искусств заметно выше, чем в университетах</label><br>"
      ],
      "id": "3c2519fb-8814-49ed-8638-4b658cd18bb1"
    },
    {
      "cell_type": "markdown",
      "metadata": {
        "id": "fb292e51-1a1d-44b6-ab6c-8fd3ff0acdc4"
      },
      "source": [
        "**Задание 3**\\\n",
        "Постройте гистограммы по каждой из характеристик (SAT ... Grad%) для каждого типа институтов. Какие из следующих утверждений верны (речь идет о наблюдаемых данных)?\n",
        "\n",
        "Hint: для каждой пары связанных утверждений, надо выбрать одно из них."
      ],
      "id": "fb292e51-1a1d-44b6-ab6c-8fd3ff0acdc4"
    },
    {
      "cell_type": "code",
      "source": [
        "plt.hist([df_art['SAT'], df_univ['SAT']])\n",
        "plt.legend(('Liberal Arts', 'University'));"
      ],
      "metadata": {
        "colab": {
          "base_uri": "https://localhost:8080/",
          "height": 430
        },
        "id": "zgk9M9KHdw7O",
        "outputId": "49721c68-4d77-4cf6-9a25-4e2a3b490d7d"
      },
      "id": "zgk9M9KHdw7O",
      "execution_count": 17,
      "outputs": [
        {
          "output_type": "display_data",
          "data": {
            "text/plain": [
              "<Figure size 640x480 with 1 Axes>"
            ],
            "image/png": "[encoded data removed]"
          },
          "metadata": {}
        }
      ]
    },
    {
      "cell_type": "code",
      "source": [
        "plt.hist([df_art['Acceptance'], df_univ['Acceptance']])\n",
        "plt.legend(('Liberal Arts', 'University'));"
      ],
      "metadata": {
        "colab": {
          "base_uri": "https://localhost:8080/",
          "height": 430
        },
        "id": "LBFla_tXeuwj",
        "outputId": "a349cf41-66cf-4754-e30a-5fcda9e55f5d"
      },
      "id": "LBFla_tXeuwj",
      "execution_count": 18,
      "outputs": [
        {
          "output_type": "display_data",
          "data": {
            "text/plain": [
              "<Figure size 640x480 with 1 Axes>"
            ],
            "image/png": "[encoded data removed]"
          },
          "metadata": {}
        }
      ]
    },
    {
      "cell_type": "code",
      "source": [
        "plt.hist([df_art['$/Student'], df_univ['$/Student']])\n",
        "plt.legend(('Liberal Arts', 'University'));"
      ],
      "metadata": {
        "colab": {
          "base_uri": "https://localhost:8080/",
          "height": 430
        },
        "id": "pR5-JK6leyxh",
        "outputId": "3865345a-e415-40b0-ee18-2cb0bc4b49ca"
      },
      "id": "pR5-JK6leyxh",
      "execution_count": 19,
      "outputs": [
        {
          "output_type": "display_data",
          "data": {
            "text/plain": [
              "<Figure size 640x480 with 1 Axes>"
            ],
            "image/png": "[encoded data removed]"
          },
          "metadata": {}
        }
      ]
    },
    {
      "cell_type": "code",
      "source": [
        "plt.hist([df_art['Top 10%'], df_univ['Top 10%']])\n",
        "plt.legend(('Liberal Arts', 'University'));"
      ],
      "metadata": {
        "colab": {
          "base_uri": "https://localhost:8080/",
          "height": 430
        },
        "id": "QRX58oJJe0du",
        "outputId": "bea1863d-cdb7-478f-9f09-edf8dd898104"
      },
      "id": "QRX58oJJe0du",
      "execution_count": 21,
      "outputs": [
        {
          "output_type": "display_data",
          "data": {
            "text/plain": [
              "<Figure size 640x480 with 1 Axes>"
            ],
            "image/png": "[encoded data removed]"
          },
          "metadata": {}
        }
      ]
    },
    {
      "cell_type": "code",
      "source": [
        "plt.hist([df_art['%PhD'], df_univ['%PhD']])\n",
        "plt.legend(('Liberal Arts', 'University'));"
      ],
      "metadata": {
        "colab": {
          "base_uri": "https://localhost:8080/",
          "height": 430
        },
        "id": "7s3lY85fe0aW",
        "outputId": "c3634a1c-182b-4d57-940e-953d13d8d697"
      },
      "id": "7s3lY85fe0aW",
      "execution_count": 22,
      "outputs": [
        {
          "output_type": "display_data",
          "data": {
            "text/plain": [
              "<Figure size 640x480 with 1 Axes>"
            ],
            "image/png": "[encoded data removed]"
          },
          "metadata": {}
        }
      ]
    },
    {
      "cell_type": "code",
      "source": [
        "plt.hist([df_art['Grad%'], df_univ['Grad%']])\n",
        "plt.legend(('Liberal Arts', 'University'));"
      ],
      "metadata": {
        "colab": {
          "base_uri": "https://localhost:8080/",
          "height": 430
        },
        "id": "4hJqvLsee0Xf",
        "outputId": "6e097105-9d7b-40f6-c898-c2bea3d01089"
      },
      "id": "4hJqvLsee0Xf",
      "execution_count": 23,
      "outputs": [
        {
          "output_type": "display_data",
          "data": {
            "text/plain": [
              "<Figure size 640x480 with 1 Axes>"
            ],
            "image/png": "[encoded data removed]"
          },
          "metadata": {}
        }
      ]
    },
    {
      "cell_type": "code",
      "execution_count": 24,
      "metadata": {
        "id": "9cbdd212-41f7-43bd-b580-6a0572783b7a",
        "colab": {
          "base_uri": "https://localhost:8080/",
          "height": 140
        },
        "outputId": "c9ab3031-d077-4529-9cf1-a1b823b6e379"
      },
      "outputs": [
        {
          "output_type": "display_data",
          "data": {
            "text/plain": [
              "<IPython.core.display.HTML object>"
            ],
            "text/html": [
              "<input type=\"checkbox\" id=\"0\">\n",
              "<label for=\"0\"></label>Распределение процента факультетов с Phd в школах искусств напоминает \"нормальное\"<br>\n",
              "\n",
              "<input type=\"checkbox\" id=\"1\">\n",
              "<label for=\"1\">Распределение процента факультетов с Phd в университетах напоминает \"нормальное\"</label><br>\n",
              "\n",
              "<input type=\"checkbox\" id=\"2\">\n",
              "<label for=\"2\"></label>Гистограмма процента студентов, которые успешно завершили университеты, имеет несколько пиков<br>\n",
              "\n",
              "<input type=\"checkbox\" id=\"3\">\n",
              "<label for=\"3\">Гистограмма процента студентов, которые успешно завершили школы искусств, имеет несколько пиков</label><br>\n",
              "\n",
              "<input type=\"checkbox\" id=\"5\">\n",
              "<label for=\"5\">В университетах процент факультетов с Phd выше</label><br>\n",
              "\n",
              "<input type=\"checkbox\" id=\"4\">\n",
              "<label for=\"4\">В школах искусств процент факультетов с Phd выше</label><br>\n"
            ]
          },
          "metadata": {}
        }
      ],
      "source": [
        "%%HTML\n",
        "<input type=\"checkbox\" id=\"0\">\n",
        "<label for=\"0\"></label>Распределение процента факультетов с Phd в школах искусств напоминает \"нормальное\"<br>\n",
        "\n",
        "<input type=\"checkbox\" id=\"1\">\n",
        "<label for=\"1\">Распределение процента факультетов с Phd в университетах напоминает \"нормальное\"</label><br>\n",
        "\n",
        "<input type=\"checkbox\" id=\"2\">\n",
        "<label for=\"2\"></label>Гистограмма процента студентов, которые успешно завершили университеты, имеет несколько пиков<br>\n",
        "\n",
        "<input type=\"checkbox\" id=\"3\">\n",
        "<label for=\"3\">Гистограмма процента студентов, которые успешно завершили школы искусств, имеет несколько пиков</label><br>\n",
        "\n",
        "<input type=\"checkbox\" id=\"5\">\n",
        "<label for=\"5\">В университетах процент факультетов с Phd выше</label><br>\n",
        "\n",
        "<input type=\"checkbox\" id=\"4\">\n",
        "<label for=\"4\">В школах искусств процент факультетов с Phd выше</label><br>"
      ],
      "id": "9cbdd212-41f7-43bd-b580-6a0572783b7a"
    },
    {
      "cell_type": "markdown",
      "metadata": {
        "id": "a89a8af4-11cb-42c1-8da7-beaf90ee1163"
      },
      "source": [
        "**Задание 4**\\\n",
        "Найдите:\n",
        "+ выборочное среднее SAT школ искусств;\n",
        "+ 3й выборочный квартиль Acceptance университетов;\n",
        "+ название института(колледжа), в котором тратят денег в среднем на одного студента больше, чем в других институтах(колледжах)."
      ],
      "id": "a89a8af4-11cb-42c1-8da7-beaf90ee1163"
    },
    {
      "cell_type": "code",
      "execution_count": 26,
      "metadata": {
        "id": "b63f0a91-148c-48af-92dd-1e376b5b3648",
        "colab": {
          "base_uri": "https://localhost:8080/"
        },
        "outputId": "9547b893-cfd8-459f-b36d-c5ddf2ea3433"
      },
      "outputs": [
        {
          "output_type": "execute_result",
          "data": {
            "text/plain": [
              "1256.64"
            ]
          },
          "metadata": {},
          "execution_count": 26
        }
      ],
      "source": [
        "# 1\n",
        "df_art['SAT'].mean()"
      ],
      "id": "b63f0a91-148c-48af-92dd-1e376b5b3648"
    },
    {
      "cell_type": "code",
      "execution_count": 27,
      "metadata": {
        "id": "29229c27-67c1-4a74-8314-0c811c0a37f1",
        "colab": {
          "base_uri": "https://localhost:8080/"
        },
        "outputId": "7f1caf85-fa64-4412-ee66-ccdc722b7ebd"
      },
      "outputs": [
        {
          "output_type": "execute_result",
          "data": {
            "text/plain": [
              "45.0"
            ]
          },
          "metadata": {},
          "execution_count": 27
        }
      ],
      "source": [
        "# 2\n",
        "df_univ['Acceptance'].describe()[\"75%\"]"
      ],
      "id": "29229c27-67c1-4a74-8314-0c811c0a37f1"
    },
    {
      "cell_type": "code",
      "source": [
        "# 3\n",
        "df_univ['$/Student'].describe()"
      ],
      "metadata": {
        "colab": {
          "base_uri": "https://localhost:8080/"
        },
        "id": "S6QSm6kNfiG7",
        "outputId": "98283195-dc28-4378-8c36-c8d04c8f1f01"
      },
      "id": "S6QSm6kNfiG7",
      "execution_count": 28,
      "outputs": [
        {
          "output_type": "execute_result",
          "data": {
            "text/plain": [
              "count        25.000000\n",
              "mean      38738.840000\n",
              "std       17710.329859\n",
              "min       19365.000000\n",
              "25%       26730.000000\n",
              "50%       37137.000000\n",
              "75%       45879.000000\n",
              "max      102262.000000\n",
              "Name: $/Student, dtype: float64"
            ]
          },
          "metadata": {},
          "execution_count": 28
        }
      ]
    },
    {
      "cell_type": "code",
      "source": [
        "df_univ[df_univ['$/Student'] > (df_univ['$/Student'].describe()[\"75%\"] + 1.5 * (df_univ['$/Student'].describe()[\"75%\"] - df_univ['$/Student'].describe()[\"25%\"]))]['School']"
      ],
      "metadata": {
        "colab": {
          "base_uri": "https://localhost:8080/"
        },
        "id": "K3IGyXMmfn7e",
        "outputId": "2fe42a20-0426-4ab1-d06f-1043294fe8f0"
      },
      "id": "K3IGyXMmfn7e",
      "execution_count": 30,
      "outputs": [
        {
          "output_type": "execute_result",
          "data": {
            "text/plain": [
              "29    Cal Tech\n",
              "Name: School, dtype: object"
            ]
          },
          "metadata": {},
          "execution_count": 30
        }
      ]
    },
    {
      "cell_type": "code",
      "source": [],
      "metadata": {
        "id": "XM9ktK-WfofM"
      },
      "id": "XM9ktK-WfofM",
      "execution_count": null,
      "outputs": []
    }
  ],
  "metadata": {
    "colab": {
      "provenance": []
    },
    "kernelspec": {
      "display_name": "Python 3 (ipykernel)",
      "language": "python",
      "name": "python3"
    },
    "language_info": {
      "codemirror_mode": {
        "name": "ipython",
        "version": 3
      },
      "file_extension": ".py",
      "mimetype": "text/x-python",
      "name": "python",
      "nbconvert_exporter": "python",
      "pygments_lexer": "ipython3",
      "version": "3.9.13"
    }
  },
  "nbformat": 4,
  "nbformat_minor": 5
}